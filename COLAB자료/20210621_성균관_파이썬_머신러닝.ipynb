{
  "nbformat": 4,
  "nbformat_minor": 0,
  "metadata": {
    "colab": {
      "name": "20210621_성균관_파이썬_머신러닝.ipynb",
      "provenance": []
    },
    "kernelspec": {
      "name": "python3",
      "display_name": "Python 3"
    },
    "language_info": {
      "name": "python"
    }
  },
  "cells": [
    {
      "cell_type": "code",
      "metadata": {
        "colab": {
          "base_uri": "https://localhost:8080/"
        },
        "id": "CcHththMJcE4",
        "outputId": "bcc12f34-7404-4fd3-eed0-2cbfd06ccf1c"
      },
      "source": [
        "a = 5\n",
        "print(a)"
      ],
      "execution_count": null,
      "outputs": [
        {
          "output_type": "stream",
          "text": [
            "5\n"
          ],
          "name": "stdout"
        }
      ]
    },
    {
      "cell_type": "code",
      "metadata": {
        "id": "PjHa_hJfG3DF"
      },
      "source": [
        ""
      ],
      "execution_count": null,
      "outputs": []
    },
    {
      "cell_type": "code",
      "metadata": {
        "id": "0QridjNrKyoC"
      },
      "source": [
        "a = 3\n",
        "b = 5"
      ],
      "execution_count": null,
      "outputs": []
    },
    {
      "cell_type": "code",
      "metadata": {
        "colab": {
          "base_uri": "https://localhost:8080/"
        },
        "id": "6q9zRmSKK_FA",
        "outputId": "cb5003c1-90fe-461b-eead-7b83bf403678"
      },
      "source": [
        "a + b"
      ],
      "execution_count": null,
      "outputs": [
        {
          "output_type": "execute_result",
          "data": {
            "text/plain": [
              "8"
            ]
          },
          "metadata": {
            "tags": []
          },
          "execution_count": 3
        }
      ]
    },
    {
      "cell_type": "code",
      "metadata": {
        "colab": {
          "base_uri": "https://localhost:8080/"
        },
        "id": "t-xrLBYtLD7T",
        "outputId": "2da521e1-859f-4b79-c9b8-46f4bb226d1d"
      },
      "source": [
        "a = 5\n",
        "a"
      ],
      "execution_count": null,
      "outputs": [
        {
          "output_type": "execute_result",
          "data": {
            "text/plain": [
              "5"
            ]
          },
          "metadata": {
            "tags": []
          },
          "execution_count": 4
        }
      ]
    },
    {
      "cell_type": "code",
      "metadata": {
        "colab": {
          "base_uri": "https://localhost:8080/"
        },
        "id": "RsrtyufOLN4-",
        "outputId": "3f513cdf-1dbf-436d-cba5-ee69a06df371"
      },
      "source": [
        "a = 5\n",
        "print(a)"
      ],
      "execution_count": null,
      "outputs": [
        {
          "output_type": "stream",
          "text": [
            "5\n"
          ],
          "name": "stdout"
        }
      ]
    },
    {
      "cell_type": "code",
      "metadata": {
        "id": "VDW7HdU8LQbY"
      },
      "source": [
        "a = 3\n",
        "b = 5"
      ],
      "execution_count": null,
      "outputs": []
    },
    {
      "cell_type": "code",
      "metadata": {
        "colab": {
          "base_uri": "https://localhost:8080/"
        },
        "id": "RmdigOZDLUuA",
        "outputId": "48d8ffb6-e83e-4921-99dd-683d3b046af6"
      },
      "source": [
        "a - b"
      ],
      "execution_count": null,
      "outputs": [
        {
          "output_type": "execute_result",
          "data": {
            "text/plain": [
              "-2"
            ]
          },
          "metadata": {
            "tags": []
          },
          "execution_count": 7
        }
      ]
    },
    {
      "cell_type": "code",
      "metadata": {
        "colab": {
          "base_uri": "https://localhost:8080/"
        },
        "id": "miGj_KBrLXeG",
        "outputId": "d323f621-6d88-4871-969b-ef18dac8fece"
      },
      "source": [
        "a * b"
      ],
      "execution_count": null,
      "outputs": [
        {
          "output_type": "execute_result",
          "data": {
            "text/plain": [
              "15"
            ]
          },
          "metadata": {
            "tags": []
          },
          "execution_count": 8
        }
      ]
    },
    {
      "cell_type": "code",
      "metadata": {
        "colab": {
          "base_uri": "https://localhost:8080/"
        },
        "id": "NnMUNk2lLZ6m",
        "outputId": "78941365-ba79-4bb4-c132-baeb67ace601"
      },
      "source": [
        "a / b"
      ],
      "execution_count": null,
      "outputs": [
        {
          "output_type": "execute_result",
          "data": {
            "text/plain": [
              "0.6"
            ]
          },
          "metadata": {
            "tags": []
          },
          "execution_count": 9
        }
      ]
    },
    {
      "cell_type": "code",
      "metadata": {
        "colab": {
          "base_uri": "https://localhost:8080/"
        },
        "id": "cRS_5IDSLbWU",
        "outputId": "31c5e5d2-cbd3-4c72-8ff3-ed4d8f9d9512"
      },
      "source": [
        "a ** b"
      ],
      "execution_count": null,
      "outputs": [
        {
          "output_type": "execute_result",
          "data": {
            "text/plain": [
              "243"
            ]
          },
          "metadata": {
            "tags": []
          },
          "execution_count": 10
        }
      ]
    },
    {
      "cell_type": "code",
      "metadata": {
        "colab": {
          "base_uri": "https://localhost:8080/"
        },
        "id": "V60jb7bNLe7R",
        "outputId": "f5ea4095-9aac-4f69-f5db-21e7d108b577"
      },
      "source": [
        "7 % 3"
      ],
      "execution_count": null,
      "outputs": [
        {
          "output_type": "execute_result",
          "data": {
            "text/plain": [
              "1"
            ]
          },
          "metadata": {
            "tags": []
          },
          "execution_count": 11
        }
      ]
    },
    {
      "cell_type": "code",
      "metadata": {
        "colab": {
          "base_uri": "https://localhost:8080/"
        },
        "id": "gBNH02D-MDUi",
        "outputId": "d2388694-d534-4fe4-ec64-0b5e988e4fce"
      },
      "source": [
        "7 // 3"
      ],
      "execution_count": null,
      "outputs": [
        {
          "output_type": "execute_result",
          "data": {
            "text/plain": [
              "2"
            ]
          },
          "metadata": {
            "tags": []
          },
          "execution_count": 12
        }
      ]
    },
    {
      "cell_type": "code",
      "metadata": {
        "colab": {
          "base_uri": "https://localhost:8080/",
          "height": 34
        },
        "id": "VdbgAMYwMJEU",
        "outputId": "b0bb9c07-30e0-4153-9d28-a2dab2c0b395"
      },
      "source": [
        "# 문자열 자료형\n",
        "\n",
        "a = 'hello wor\\'ld!'\n",
        "a"
      ],
      "execution_count": null,
      "outputs": [
        {
          "output_type": "execute_result",
          "data": {
            "application/vnd.google.colaboratory.intrinsic+json": {
              "type": "string"
            },
            "text/plain": [
              "\"hello wor'ld!\""
            ]
          },
          "metadata": {
            "tags": []
          },
          "execution_count": 19
        }
      ]
    },
    {
      "cell_type": "code",
      "metadata": {
        "colab": {
          "base_uri": "https://localhost:8080/",
          "height": 34
        },
        "id": "rJKTpUV8MjO9",
        "outputId": "8c3c4cf0-eb76-4b41-a8e6-9d1daf760874"
      },
      "source": [
        "a = \"hello world!\"\n",
        "a"
      ],
      "execution_count": null,
      "outputs": [
        {
          "output_type": "execute_result",
          "data": {
            "application/vnd.google.colaboratory.intrinsic+json": {
              "type": "string"
            },
            "text/plain": [
              "\"hello wor'ld!\""
            ]
          },
          "metadata": {
            "tags": []
          },
          "execution_count": 17
        }
      ]
    },
    {
      "cell_type": "code",
      "metadata": {
        "colab": {
          "base_uri": "https://localhost:8080/",
          "height": 34
        },
        "id": "7syN7zJTMpjO",
        "outputId": "05ecf0b4-bd59-4937-8c52-2de5d9c584bd"
      },
      "source": [
        "a = \"\"\"hello world!\"\"\"\n",
        "a"
      ],
      "execution_count": null,
      "outputs": [
        {
          "output_type": "execute_result",
          "data": {
            "application/vnd.google.colaboratory.intrinsic+json": {
              "type": "string"
            },
            "text/plain": [
              "'hello wor\"ld!'"
            ]
          },
          "metadata": {
            "tags": []
          },
          "execution_count": 18
        }
      ]
    },
    {
      "cell_type": "code",
      "metadata": {
        "colab": {
          "base_uri": "https://localhost:8080/",
          "height": 133
        },
        "id": "rQglGycbMrjs",
        "outputId": "995e7ff6-1eee-4786-cbf7-62832adcb2c8"
      },
      "source": [
        "a = 'hello wor\n",
        "ld!\n",
        "print(a)"
      ],
      "execution_count": null,
      "outputs": [
        {
          "output_type": "error",
          "ename": "SyntaxError",
          "evalue": "ignored",
          "traceback": [
            "\u001b[0;36m  File \u001b[0;32m\"<ipython-input-24-0400e9c03863>\"\u001b[0;36m, line \u001b[0;32m1\u001b[0m\n\u001b[0;31m    a = 'hello wor\u001b[0m\n\u001b[0m                  ^\u001b[0m\n\u001b[0;31mSyntaxError\u001b[0m\u001b[0;31m:\u001b[0m EOL while scanning string literal\n"
          ]
        }
      ]
    },
    {
      "cell_type": "code",
      "metadata": {
        "colab": {
          "base_uri": "https://localhost:8080/",
          "height": 34
        },
        "id": "fImUXlWTNsQr",
        "outputId": "7e1d857b-ea35-4d53-e6cb-faee32af0452"
      },
      "source": [
        "a = \"\"\"hello wo\n",
        "\n",
        "\n",
        "\n",
        "rld!\"\"\"\n",
        "a"
      ],
      "execution_count": null,
      "outputs": [
        {
          "output_type": "execute_result",
          "data": {
            "application/vnd.google.colaboratory.intrinsic+json": {
              "type": "string"
            },
            "text/plain": [
              "'hello wo\\n\\n\\n\\nrld!'"
            ]
          },
          "metadata": {
            "tags": []
          },
          "execution_count": 25
        }
      ]
    },
    {
      "cell_type": "code",
      "metadata": {
        "id": "-4nwtMdGOZ4P"
      },
      "source": [
        "a = \"\"\"^_^\"\"\"\n",
        "\n",
        "a = 'python'\n",
        "b = ' is too fun'"
      ],
      "execution_count": null,
      "outputs": []
    },
    {
      "cell_type": "code",
      "metadata": {
        "colab": {
          "base_uri": "https://localhost:8080/",
          "height": 34
        },
        "id": "BatDTfgeOpST",
        "outputId": "5c00670c-23a2-473d-ff1f-f2d4cb7e5b8d"
      },
      "source": [
        "a + b"
      ],
      "execution_count": null,
      "outputs": [
        {
          "output_type": "execute_result",
          "data": {
            "application/vnd.google.colaboratory.intrinsic+json": {
              "type": "string"
            },
            "text/plain": [
              "'python is too fun'"
            ]
          },
          "metadata": {
            "tags": []
          },
          "execution_count": 27
        }
      ]
    },
    {
      "cell_type": "code",
      "metadata": {
        "colab": {
          "base_uri": "https://localhost:8080/",
          "height": 168
        },
        "id": "W_1C1RnnOwFj",
        "outputId": "339cec66-c038-4486-8cf4-ca809176ec96"
      },
      "source": [
        "a - b"
      ],
      "execution_count": null,
      "outputs": [
        {
          "output_type": "error",
          "ename": "TypeError",
          "evalue": "ignored",
          "traceback": [
            "\u001b[0;31m---------------------------------------------------------------------------\u001b[0m",
            "\u001b[0;31mTypeError\u001b[0m                                 Traceback (most recent call last)",
            "\u001b[0;32m<ipython-input-28-09bd029d0285>\u001b[0m in \u001b[0;36m<module>\u001b[0;34m()\u001b[0m\n\u001b[0;32m----> 1\u001b[0;31m \u001b[0ma\u001b[0m \u001b[0;34m-\u001b[0m \u001b[0mb\u001b[0m\u001b[0;34m\u001b[0m\u001b[0;34m\u001b[0m\u001b[0m\n\u001b[0m",
            "\u001b[0;31mTypeError\u001b[0m: unsupported operand type(s) for -: 'str' and 'str'"
          ]
        }
      ]
    },
    {
      "cell_type": "code",
      "metadata": {
        "colab": {
          "base_uri": "https://localhost:8080/",
          "height": 34
        },
        "id": "fvE6xYzyO5_d",
        "outputId": "a57f7dea-3f3c-44db-ed48-f081d7cfafcb"
      },
      "source": [
        "a"
      ],
      "execution_count": null,
      "outputs": [
        {
          "output_type": "execute_result",
          "data": {
            "application/vnd.google.colaboratory.intrinsic+json": {
              "type": "string"
            },
            "text/plain": [
              "'python'"
            ]
          },
          "metadata": {
            "tags": []
          },
          "execution_count": 29
        }
      ]
    },
    {
      "cell_type": "code",
      "metadata": {
        "colab": {
          "base_uri": "https://localhost:8080/",
          "height": 34
        },
        "id": "Ghef5055O7Sp",
        "outputId": "7f523418-f55f-4cae-9a72-c132bf3e0935"
      },
      "source": [
        "a * 3"
      ],
      "execution_count": null,
      "outputs": [
        {
          "output_type": "execute_result",
          "data": {
            "application/vnd.google.colaboratory.intrinsic+json": {
              "type": "string"
            },
            "text/plain": [
              "'pythonpythonpython'"
            ]
          },
          "metadata": {
            "tags": []
          },
          "execution_count": 30
        }
      ]
    },
    {
      "cell_type": "code",
      "metadata": {
        "colab": {
          "base_uri": "https://localhost:8080/",
          "height": 34
        },
        "id": "2jFGxBViO_QX",
        "outputId": "0a8afcd8-da60-4558-f0c6-5e83873e7ac5"
      },
      "source": [
        "a = 'python is too fun'\n",
        "a"
      ],
      "execution_count": null,
      "outputs": [
        {
          "output_type": "execute_result",
          "data": {
            "application/vnd.google.colaboratory.intrinsic+json": {
              "type": "string"
            },
            "text/plain": [
              "'python is too fun'"
            ]
          },
          "metadata": {
            "tags": []
          },
          "execution_count": 31
        }
      ]
    },
    {
      "cell_type": "code",
      "metadata": {
        "colab": {
          "base_uri": "https://localhost:8080/"
        },
        "id": "WEiypBD5PGCH",
        "outputId": "1339abeb-c22c-4ee7-b7fa-bad5e9b67d10"
      },
      "source": [
        "print(a)"
      ],
      "execution_count": null,
      "outputs": [
        {
          "output_type": "stream",
          "text": [
            "python is too fun\n"
          ],
          "name": "stdout"
        }
      ]
    },
    {
      "cell_type": "code",
      "metadata": {
        "colab": {
          "base_uri": "https://localhost:8080/",
          "height": 34
        },
        "id": "5aU0v0kqPNjO",
        "outputId": "e5a0d08c-f2c3-4c30-dbd5-7fd6fa4e77cb"
      },
      "source": [
        "a"
      ],
      "execution_count": null,
      "outputs": [
        {
          "output_type": "execute_result",
          "data": {
            "application/vnd.google.colaboratory.intrinsic+json": {
              "type": "string"
            },
            "text/plain": [
              "'python is too fun'"
            ]
          },
          "metadata": {
            "tags": []
          },
          "execution_count": 33
        }
      ]
    },
    {
      "cell_type": "code",
      "metadata": {
        "colab": {
          "base_uri": "https://localhost:8080/",
          "height": 34
        },
        "id": "wLrgRZhdPQ0Z",
        "outputId": "6c8817e4-3499-4faa-b436-be191ea7191a"
      },
      "source": [
        "a[0]"
      ],
      "execution_count": null,
      "outputs": [
        {
          "output_type": "execute_result",
          "data": {
            "application/vnd.google.colaboratory.intrinsic+json": {
              "type": "string"
            },
            "text/plain": [
              "'p'"
            ]
          },
          "metadata": {
            "tags": []
          },
          "execution_count": 34
        }
      ]
    },
    {
      "cell_type": "code",
      "metadata": {
        "colab": {
          "base_uri": "https://localhost:8080/",
          "height": 34
        },
        "id": "u8tz7809PfMc",
        "outputId": "46f210f4-d1ea-48a9-cd3e-6cb0a07f0fc6"
      },
      "source": [
        "a[3]"
      ],
      "execution_count": null,
      "outputs": [
        {
          "output_type": "execute_result",
          "data": {
            "application/vnd.google.colaboratory.intrinsic+json": {
              "type": "string"
            },
            "text/plain": [
              "'h'"
            ]
          },
          "metadata": {
            "tags": []
          },
          "execution_count": 35
        }
      ]
    },
    {
      "cell_type": "code",
      "metadata": {
        "colab": {
          "base_uri": "https://localhost:8080/",
          "height": 34
        },
        "id": "bKKr2Lm8Plzv",
        "outputId": "86c0b00c-83a6-4574-fa6c-d633411a349a"
      },
      "source": [
        "a[-1]"
      ],
      "execution_count": null,
      "outputs": [
        {
          "output_type": "execute_result",
          "data": {
            "application/vnd.google.colaboratory.intrinsic+json": {
              "type": "string"
            },
            "text/plain": [
              "'n'"
            ]
          },
          "metadata": {
            "tags": []
          },
          "execution_count": 36
        }
      ]
    },
    {
      "cell_type": "code",
      "metadata": {
        "colab": {
          "base_uri": "https://localhost:8080/",
          "height": 34
        },
        "id": "BS56EuqkPwWG",
        "outputId": "210f0ef7-048b-4572-e032-22018ba33189"
      },
      "source": [
        "a[1:3] # 1부터 3전까지 == 1부터 2까지"
      ],
      "execution_count": null,
      "outputs": [
        {
          "output_type": "execute_result",
          "data": {
            "application/vnd.google.colaboratory.intrinsic+json": {
              "type": "string"
            },
            "text/plain": [
              "'yt'"
            ]
          },
          "metadata": {
            "tags": []
          },
          "execution_count": 37
        }
      ]
    },
    {
      "cell_type": "code",
      "metadata": {
        "colab": {
          "base_uri": "https://localhost:8080/",
          "height": 34
        },
        "id": "jtvMxWnFQAnr",
        "outputId": "fb497bfc-284b-4957-c3be-182f253fd614"
      },
      "source": [
        "a"
      ],
      "execution_count": null,
      "outputs": [
        {
          "output_type": "execute_result",
          "data": {
            "application/vnd.google.colaboratory.intrinsic+json": {
              "type": "string"
            },
            "text/plain": [
              "'python is too fun'"
            ]
          },
          "metadata": {
            "tags": []
          },
          "execution_count": 38
        }
      ]
    },
    {
      "cell_type": "code",
      "metadata": {
        "colab": {
          "base_uri": "https://localhost:8080/",
          "height": 34
        },
        "id": "QErWeDB1QFMD",
        "outputId": "a680d65f-6615-4e49-e517-56d991a1f0d1"
      },
      "source": [
        "a[2:]"
      ],
      "execution_count": null,
      "outputs": [
        {
          "output_type": "execute_result",
          "data": {
            "application/vnd.google.colaboratory.intrinsic+json": {
              "type": "string"
            },
            "text/plain": [
              "'thon is too fun'"
            ]
          },
          "metadata": {
            "tags": []
          },
          "execution_count": 39
        }
      ]
    },
    {
      "cell_type": "code",
      "metadata": {
        "colab": {
          "base_uri": "https://localhost:8080/",
          "height": 34
        },
        "id": "3wi2iOSmQNOM",
        "outputId": "9e5ed2ce-d091-425d-e28a-3fddf6d5d0e5"
      },
      "source": [
        "a[:7]"
      ],
      "execution_count": null,
      "outputs": [
        {
          "output_type": "execute_result",
          "data": {
            "application/vnd.google.colaboratory.intrinsic+json": {
              "type": "string"
            },
            "text/plain": [
              "'python '"
            ]
          },
          "metadata": {
            "tags": []
          },
          "execution_count": 40
        }
      ]
    },
    {
      "cell_type": "code",
      "metadata": {
        "colab": {
          "base_uri": "https://localhost:8080/"
        },
        "id": "noSbVL-AQXos",
        "outputId": "d2a7e697-1f43-496b-b3e6-3397f6920e65"
      },
      "source": [
        "# 문자열 자료형(클래스) : 함수들을 저장해놓는 주머니\n",
        "len(a)"
      ],
      "execution_count": null,
      "outputs": [
        {
          "output_type": "execute_result",
          "data": {
            "text/plain": [
              "17"
            ]
          },
          "metadata": {
            "tags": []
          },
          "execution_count": 42
        }
      ]
    },
    {
      "cell_type": "code",
      "metadata": {
        "colab": {
          "base_uri": "https://localhost:8080/",
          "height": 34
        },
        "id": "Z-rztHltQ0lW",
        "outputId": "3c5309ce-d704-40f4-dec5-613a8397ef28"
      },
      "source": [
        "# 문자열.함수이름\n",
        "'I eat {} apples'.format(3)"
      ],
      "execution_count": null,
      "outputs": [
        {
          "output_type": "execute_result",
          "data": {
            "application/vnd.google.colaboratory.intrinsic+json": {
              "type": "string"
            },
            "text/plain": [
              "'I eat 3 apples'"
            ]
          },
          "metadata": {
            "tags": []
          },
          "execution_count": 43
        }
      ]
    },
    {
      "cell_type": "code",
      "metadata": {
        "colab": {
          "base_uri": "https://localhost:8080/",
          "height": 34
        },
        "id": "wevft2QiRTwW",
        "outputId": "f0039b55-ca4f-4e34-f11c-1558acaa60d1"
      },
      "source": [
        "'I eat {} apples and {} oranges'.format(3, 5)"
      ],
      "execution_count": null,
      "outputs": [
        {
          "output_type": "execute_result",
          "data": {
            "application/vnd.google.colaboratory.intrinsic+json": {
              "type": "string"
            },
            "text/plain": [
              "'I eat 3 apples and 5 oranges'"
            ]
          },
          "metadata": {
            "tags": []
          },
          "execution_count": 44
        }
      ]
    },
    {
      "cell_type": "code",
      "metadata": {
        "colab": {
          "base_uri": "https://localhost:8080/",
          "height": 34
        },
        "id": "5waW4ycmRhr7",
        "outputId": "412cf9f5-b5b1-4862-82d4-c68f0f1e5a45"
      },
      "source": [
        "name = '고수'\n",
        "age = 40\n",
        "\n",
        "'나의 이름은 {}이고, 나이는 {}입니다.'.format(name, age)"
      ],
      "execution_count": null,
      "outputs": [
        {
          "output_type": "execute_result",
          "data": {
            "application/vnd.google.colaboratory.intrinsic+json": {
              "type": "string"
            },
            "text/plain": [
              "'나의 이름은 고수이고, 나이는 40입니다.'"
            ]
          },
          "metadata": {
            "tags": []
          },
          "execution_count": 46
        }
      ]
    },
    {
      "cell_type": "code",
      "metadata": {
        "colab": {
          "base_uri": "https://localhost:8080/",
          "height": 34
        },
        "id": "1i8O14GfR1QD",
        "outputId": "879769cd-53f7-4062-a5f8-2725bf5c9bfe"
      },
      "source": [
        "f'나의 이름은 {name}이고, 나이는 {age + 5}입니다.'"
      ],
      "execution_count": null,
      "outputs": [
        {
          "output_type": "execute_result",
          "data": {
            "application/vnd.google.colaboratory.intrinsic+json": {
              "type": "string"
            },
            "text/plain": [
              "'나의 이름은 고수이고, 나이는 45입니다.'"
            ]
          },
          "metadata": {
            "tags": []
          },
          "execution_count": 49
        }
      ]
    },
    {
      "cell_type": "code",
      "metadata": {
        "colab": {
          "base_uri": "https://localhost:8080/"
        },
        "id": "nlgToEl5SDwq",
        "outputId": "d1f11a26-ffbe-4239-8709-31cdc015a41a"
      },
      "source": [
        "a.count('o')"
      ],
      "execution_count": null,
      "outputs": [
        {
          "output_type": "execute_result",
          "data": {
            "text/plain": [
              "3"
            ]
          },
          "metadata": {
            "tags": []
          },
          "execution_count": 51
        }
      ]
    },
    {
      "cell_type": "code",
      "metadata": {
        "colab": {
          "base_uri": "https://localhost:8080/"
        },
        "id": "rU2koeb4SceV",
        "outputId": "cffc2a5e-bb5d-4f7c-bb24-ebc312a92a02"
      },
      "source": [
        "a.find('i')"
      ],
      "execution_count": null,
      "outputs": [
        {
          "output_type": "execute_result",
          "data": {
            "text/plain": [
              "7"
            ]
          },
          "metadata": {
            "tags": []
          },
          "execution_count": 52
        }
      ]
    },
    {
      "cell_type": "code",
      "metadata": {
        "colab": {
          "base_uri": "https://localhost:8080/"
        },
        "id": "AW_TT68gS3Tj",
        "outputId": "e0508e7b-d147-45c5-dde4-93bba1e23af8"
      },
      "source": [
        "a.find('z')"
      ],
      "execution_count": null,
      "outputs": [
        {
          "output_type": "execute_result",
          "data": {
            "text/plain": [
              "-1"
            ]
          },
          "metadata": {
            "tags": []
          },
          "execution_count": 53
        }
      ]
    },
    {
      "cell_type": "code",
      "metadata": {
        "colab": {
          "base_uri": "https://localhost:8080/",
          "height": 34
        },
        "id": "2vOGrNjuS73Y",
        "outputId": "9603a1eb-cd64-458a-c054-e1e97e55b3f4"
      },
      "source": [
        "a"
      ],
      "execution_count": null,
      "outputs": [
        {
          "output_type": "execute_result",
          "data": {
            "application/vnd.google.colaboratory.intrinsic+json": {
              "type": "string"
            },
            "text/plain": [
              "'python is too fun'"
            ]
          },
          "metadata": {
            "tags": []
          },
          "execution_count": 54
        }
      ]
    },
    {
      "cell_type": "code",
      "metadata": {
        "colab": {
          "base_uri": "https://localhost:8080/"
        },
        "id": "aOjS2ZB7TCkQ",
        "outputId": "386e0e81-4697-4880-c07c-b4ffcf6e0cd8"
      },
      "source": [
        "a.index('i')"
      ],
      "execution_count": null,
      "outputs": [
        {
          "output_type": "execute_result",
          "data": {
            "text/plain": [
              "7"
            ]
          },
          "metadata": {
            "tags": []
          },
          "execution_count": 55
        }
      ]
    },
    {
      "cell_type": "code",
      "metadata": {
        "colab": {
          "base_uri": "https://localhost:8080/",
          "height": 168
        },
        "id": "0mot860QTWm7",
        "outputId": "955e08b5-1e18-4c0e-aee6-a6bb792f4057"
      },
      "source": [
        "a.index('z')"
      ],
      "execution_count": null,
      "outputs": [
        {
          "output_type": "error",
          "ename": "ValueError",
          "evalue": "ignored",
          "traceback": [
            "\u001b[0;31m---------------------------------------------------------------------------\u001b[0m",
            "\u001b[0;31mValueError\u001b[0m                                Traceback (most recent call last)",
            "\u001b[0;32m<ipython-input-56-c8e03ccafa1c>\u001b[0m in \u001b[0;36m<module>\u001b[0;34m()\u001b[0m\n\u001b[0;32m----> 1\u001b[0;31m \u001b[0ma\u001b[0m\u001b[0;34m.\u001b[0m\u001b[0mindex\u001b[0m\u001b[0;34m(\u001b[0m\u001b[0;34m'z'\u001b[0m\u001b[0;34m)\u001b[0m\u001b[0;34m\u001b[0m\u001b[0;34m\u001b[0m\u001b[0m\n\u001b[0m",
            "\u001b[0;31mValueError\u001b[0m: substring not found"
          ]
        }
      ]
    },
    {
      "cell_type": "code",
      "metadata": {
        "colab": {
          "base_uri": "https://localhost:8080/",
          "height": 34
        },
        "id": "270pfp_2TYci",
        "outputId": "c7f52e9c-6295-4e2a-ed15-15177dfc53ca"
      },
      "source": [
        "','.join('abcd')"
      ],
      "execution_count": null,
      "outputs": [
        {
          "output_type": "execute_result",
          "data": {
            "application/vnd.google.colaboratory.intrinsic+json": {
              "type": "string"
            },
            "text/plain": [
              "'a,b,c,d'"
            ]
          },
          "metadata": {
            "tags": []
          },
          "execution_count": 57
        }
      ]
    },
    {
      "cell_type": "code",
      "metadata": {
        "colab": {
          "base_uri": "https://localhost:8080/",
          "height": 34
        },
        "id": "T_NjC34LTvdm",
        "outputId": "ccc6a7e8-cabe-4fde-e2b5-e52ceb940aeb"
      },
      "source": [
        "','.join(['a', 'b', 'c', 'd'])"
      ],
      "execution_count": null,
      "outputs": [
        {
          "output_type": "execute_result",
          "data": {
            "application/vnd.google.colaboratory.intrinsic+json": {
              "type": "string"
            },
            "text/plain": [
              "'a,b,c,d'"
            ]
          },
          "metadata": {
            "tags": []
          },
          "execution_count": 58
        }
      ]
    },
    {
      "cell_type": "code",
      "metadata": {
        "colab": {
          "base_uri": "https://localhost:8080/",
          "height": 34
        },
        "id": "Lo93WF-EUK6U",
        "outputId": "f40becea-8262-4559-eb5e-b3728b8e4b81"
      },
      "source": [
        "a = '     hello     '\n",
        "a"
      ],
      "execution_count": null,
      "outputs": [
        {
          "output_type": "execute_result",
          "data": {
            "application/vnd.google.colaboratory.intrinsic+json": {
              "type": "string"
            },
            "text/plain": [
              "'     hello     '"
            ]
          },
          "metadata": {
            "tags": []
          },
          "execution_count": 59
        }
      ]
    },
    {
      "cell_type": "code",
      "metadata": {
        "colab": {
          "base_uri": "https://localhost:8080/",
          "height": 34
        },
        "id": "kpPxFV4mUXVx",
        "outputId": "32352b07-a2ee-4319-f411-b967092ce906"
      },
      "source": [
        "a.lstrip()"
      ],
      "execution_count": null,
      "outputs": [
        {
          "output_type": "execute_result",
          "data": {
            "application/vnd.google.colaboratory.intrinsic+json": {
              "type": "string"
            },
            "text/plain": [
              "'hello     '"
            ]
          },
          "metadata": {
            "tags": []
          },
          "execution_count": 60
        }
      ]
    },
    {
      "cell_type": "code",
      "metadata": {
        "colab": {
          "base_uri": "https://localhost:8080/",
          "height": 34
        },
        "id": "RhsLhsxMUcGk",
        "outputId": "29a5dab3-f568-402a-e756-b190653ca98e"
      },
      "source": [
        "a.rstrip()"
      ],
      "execution_count": null,
      "outputs": [
        {
          "output_type": "execute_result",
          "data": {
            "application/vnd.google.colaboratory.intrinsic+json": {
              "type": "string"
            },
            "text/plain": [
              "'     hello'"
            ]
          },
          "metadata": {
            "tags": []
          },
          "execution_count": 61
        }
      ]
    },
    {
      "cell_type": "code",
      "metadata": {
        "colab": {
          "base_uri": "https://localhost:8080/",
          "height": 34
        },
        "id": "SKT5JcEgUg0n",
        "outputId": "ddb6e524-f150-4352-eb1c-fad334ff06c7"
      },
      "source": [
        "a.strip()"
      ],
      "execution_count": null,
      "outputs": [
        {
          "output_type": "execute_result",
          "data": {
            "application/vnd.google.colaboratory.intrinsic+json": {
              "type": "string"
            },
            "text/plain": [
              "'hello'"
            ]
          },
          "metadata": {
            "tags": []
          },
          "execution_count": 62
        }
      ]
    },
    {
      "cell_type": "code",
      "metadata": {
        "colab": {
          "base_uri": "https://localhost:8080/",
          "height": 34
        },
        "id": "_6fNAtj-Uizg",
        "outputId": "0ec948b3-c4d6-436c-c7da-933dacd44de1"
      },
      "source": [
        "a = 'python is too fun'\n",
        "a.upper()"
      ],
      "execution_count": null,
      "outputs": [
        {
          "output_type": "execute_result",
          "data": {
            "application/vnd.google.colaboratory.intrinsic+json": {
              "type": "string"
            },
            "text/plain": [
              "'PYTHON IS TOO FUN'"
            ]
          },
          "metadata": {
            "tags": []
          },
          "execution_count": 63
        }
      ]
    },
    {
      "cell_type": "code",
      "metadata": {
        "colab": {
          "base_uri": "https://localhost:8080/",
          "height": 34
        },
        "id": "fvh7xjERUoBc",
        "outputId": "5728c7b0-b351-4179-a545-cc5c63843e5f"
      },
      "source": [
        "a.lower()"
      ],
      "execution_count": null,
      "outputs": [
        {
          "output_type": "execute_result",
          "data": {
            "application/vnd.google.colaboratory.intrinsic+json": {
              "type": "string"
            },
            "text/plain": [
              "'python is too fun'"
            ]
          },
          "metadata": {
            "tags": []
          },
          "execution_count": 64
        }
      ]
    },
    {
      "cell_type": "code",
      "metadata": {
        "colab": {
          "base_uri": "https://localhost:8080/",
          "height": 34
        },
        "id": "6c9_6P6vUvOu",
        "outputId": "eaa14a30-7073-47b0-9fa0-b510654bacb9"
      },
      "source": [
        "a = a.replace('python', 'java')\n",
        "a"
      ],
      "execution_count": null,
      "outputs": [
        {
          "output_type": "execute_result",
          "data": {
            "application/vnd.google.colaboratory.intrinsic+json": {
              "type": "string"
            },
            "text/plain": [
              "'java is too fun'"
            ]
          },
          "metadata": {
            "tags": []
          },
          "execution_count": 67
        }
      ]
    },
    {
      "cell_type": "code",
      "metadata": {
        "colab": {
          "base_uri": "https://localhost:8080/",
          "height": 34
        },
        "id": "xZzR61MKU_ca",
        "outputId": "f0b57a73-40b9-447b-94b7-cff808940ee2"
      },
      "source": [
        "a"
      ],
      "execution_count": null,
      "outputs": [
        {
          "output_type": "execute_result",
          "data": {
            "application/vnd.google.colaboratory.intrinsic+json": {
              "type": "string"
            },
            "text/plain": [
              "'python is too fun'"
            ]
          },
          "metadata": {
            "tags": []
          },
          "execution_count": 66
        }
      ]
    },
    {
      "cell_type": "code",
      "metadata": {
        "colab": {
          "base_uri": "https://localhost:8080/"
        },
        "id": "ubOXgxJNVEF0",
        "outputId": "5fedbb93-5e8e-4a91-8e8d-2fb2cf706c16"
      },
      "source": [
        "a.split() # 리스트 : 데이터를 저장해주는 기능"
      ],
      "execution_count": null,
      "outputs": [
        {
          "output_type": "execute_result",
          "data": {
            "text/plain": [
              "['java', 'is', 'too', 'fun']"
            ]
          },
          "metadata": {
            "tags": []
          },
          "execution_count": 68
        }
      ]
    },
    {
      "cell_type": "code",
      "metadata": {
        "colab": {
          "base_uri": "https://localhost:8080/"
        },
        "id": "xsLqu-MKVj6Q",
        "outputId": "a2aa02c4-95aa-499f-fdcd-8bf9caf640ea"
      },
      "source": [
        "a = 'python:is:too:fun'\n",
        "a.split(':')"
      ],
      "execution_count": null,
      "outputs": [
        {
          "output_type": "execute_result",
          "data": {
            "text/plain": [
              "['python', 'is', 'too', 'fun']"
            ]
          },
          "metadata": {
            "tags": []
          },
          "execution_count": 70
        }
      ]
    },
    {
      "cell_type": "code",
      "metadata": {
        "colab": {
          "base_uri": "https://localhost:8080/"
        },
        "id": "l_DBq5C7V5aT",
        "outputId": "b23f0b85-1b46-4986-ba63-ccda4f30559b"
      },
      "source": [
        "a = [1,3,5,7,9]\n",
        "a"
      ],
      "execution_count": null,
      "outputs": [
        {
          "output_type": "execute_result",
          "data": {
            "text/plain": [
              "[1, 3, 5, 7, 9]"
            ]
          },
          "metadata": {
            "tags": []
          },
          "execution_count": 71
        }
      ]
    },
    {
      "cell_type": "code",
      "metadata": {
        "colab": {
          "base_uri": "https://localhost:8080/"
        },
        "id": "yqHO6s6JWe-T",
        "outputId": "a78edcc8-eba8-44db-8418-157646a00227"
      },
      "source": [
        "a[0]"
      ],
      "execution_count": null,
      "outputs": [
        {
          "output_type": "execute_result",
          "data": {
            "text/plain": [
              "1"
            ]
          },
          "metadata": {
            "tags": []
          },
          "execution_count": 72
        }
      ]
    },
    {
      "cell_type": "code",
      "metadata": {
        "colab": {
          "base_uri": "https://localhost:8080/"
        },
        "id": "MozoeoRFWnDj",
        "outputId": "10f70f2d-ebf0-4f4a-d62a-e964091bed09"
      },
      "source": [
        "a[3]"
      ],
      "execution_count": null,
      "outputs": [
        {
          "output_type": "execute_result",
          "data": {
            "text/plain": [
              "7"
            ]
          },
          "metadata": {
            "tags": []
          },
          "execution_count": 73
        }
      ]
    },
    {
      "cell_type": "code",
      "metadata": {
        "colab": {
          "base_uri": "https://localhost:8080/"
        },
        "id": "fMlWJg0-Wp9U",
        "outputId": "77309715-3ed8-4ece-934e-2afead607e7b"
      },
      "source": [
        "a[-1]"
      ],
      "execution_count": null,
      "outputs": [
        {
          "output_type": "execute_result",
          "data": {
            "text/plain": [
              "9"
            ]
          },
          "metadata": {
            "tags": []
          },
          "execution_count": 74
        }
      ]
    },
    {
      "cell_type": "code",
      "metadata": {
        "colab": {
          "base_uri": "https://localhost:8080/"
        },
        "id": "sJtOxS43WsNV",
        "outputId": "3d7eb099-7103-412f-9ef6-f17a1529a988"
      },
      "source": [
        "a[1:3]"
      ],
      "execution_count": null,
      "outputs": [
        {
          "output_type": "execute_result",
          "data": {
            "text/plain": [
              "[3, 5]"
            ]
          },
          "metadata": {
            "tags": []
          },
          "execution_count": 75
        }
      ]
    },
    {
      "cell_type": "code",
      "metadata": {
        "colab": {
          "base_uri": "https://localhost:8080/"
        },
        "id": "LZggtWwgW0C5",
        "outputId": "0fa67de4-9ee1-4d63-f602-9c42a69ecd74"
      },
      "source": [
        "a[1:]"
      ],
      "execution_count": null,
      "outputs": [
        {
          "output_type": "execute_result",
          "data": {
            "text/plain": [
              "[3, 5, 7, 9]"
            ]
          },
          "metadata": {
            "tags": []
          },
          "execution_count": 76
        }
      ]
    },
    {
      "cell_type": "code",
      "metadata": {
        "colab": {
          "base_uri": "https://localhost:8080/"
        },
        "id": "njKo3X1OW8QZ",
        "outputId": "ac6104c9-47ef-4b38-9c57-a0713f210f35"
      },
      "source": [
        "a[:3]"
      ],
      "execution_count": null,
      "outputs": [
        {
          "output_type": "execute_result",
          "data": {
            "text/plain": [
              "[1, 3, 5]"
            ]
          },
          "metadata": {
            "tags": []
          },
          "execution_count": 77
        }
      ]
    },
    {
      "cell_type": "code",
      "metadata": {
        "colab": {
          "base_uri": "https://localhost:8080/"
        },
        "id": "INw2vEmPW-mx",
        "outputId": "92b58003-a421-4868-c3cd-a2cb9c12308e"
      },
      "source": [
        "a = [1,2,3,[4,5]]\n",
        "a"
      ],
      "execution_count": null,
      "outputs": [
        {
          "output_type": "execute_result",
          "data": {
            "text/plain": [
              "[1, 2, 3, [4, 5]]"
            ]
          },
          "metadata": {
            "tags": []
          },
          "execution_count": 78
        }
      ]
    },
    {
      "cell_type": "code",
      "metadata": {
        "colab": {
          "base_uri": "https://localhost:8080/"
        },
        "id": "sPYXQTYkXIeH",
        "outputId": "1bfe79e0-1e06-4bc1-c36e-caf0fa43a4d8"
      },
      "source": [
        ""
      ],
      "execution_count": null,
      "outputs": [
        {
          "output_type": "execute_result",
          "data": {
            "text/plain": [
              "[1, 2, 3, [4, 5]]"
            ]
          },
          "metadata": {
            "tags": []
          },
          "execution_count": 79
        }
      ]
    },
    {
      "cell_type": "code",
      "metadata": {
        "colab": {
          "base_uri": "https://localhost:8080/"
        },
        "id": "fB8-QgA6X2RF",
        "outputId": "27430ce9-118a-47ce-b4ac-045106f7c24b"
      },
      "source": [
        "a[0] + a[1]"
      ],
      "execution_count": null,
      "outputs": [
        {
          "output_type": "execute_result",
          "data": {
            "text/plain": [
              "3"
            ]
          },
          "metadata": {
            "tags": []
          },
          "execution_count": 80
        }
      ]
    },
    {
      "cell_type": "code",
      "metadata": {
        "colab": {
          "base_uri": "https://localhost:8080/"
        },
        "id": "h3Rwlm0SX7-M",
        "outputId": "ca2f7de4-8fd4-41c1-f60a-8067ca2bd28d"
      },
      "source": [
        "a[3][0]"
      ],
      "execution_count": null,
      "outputs": [
        {
          "output_type": "execute_result",
          "data": {
            "text/plain": [
              "4"
            ]
          },
          "metadata": {
            "tags": []
          },
          "execution_count": 84
        }
      ]
    },
    {
      "cell_type": "code",
      "metadata": {
        "colab": {
          "base_uri": "https://localhost:8080/"
        },
        "id": "jJPTMTe9YApB",
        "outputId": "909f6040-d024-400e-e7aa-836fca06fa8a"
      },
      "source": [
        "a = [1,2,3]\n",
        "b = [4,5,6]\n",
        "\n",
        "a + b"
      ],
      "execution_count": null,
      "outputs": [
        {
          "output_type": "execute_result",
          "data": {
            "text/plain": [
              "[1, 2, 3, 4, 5, 6]"
            ]
          },
          "metadata": {
            "tags": []
          },
          "execution_count": 85
        }
      ]
    },
    {
      "cell_type": "code",
      "metadata": {
        "colab": {
          "base_uri": "https://localhost:8080/"
        },
        "id": "2wHe8mX2YeQ2",
        "outputId": "91ac5e83-29ae-4410-ef9c-be578c338061"
      },
      "source": [
        "a * 3"
      ],
      "execution_count": null,
      "outputs": [
        {
          "output_type": "execute_result",
          "data": {
            "text/plain": [
              "[1, 2, 3, 1, 2, 3, 1, 2, 3]"
            ]
          },
          "metadata": {
            "tags": []
          },
          "execution_count": 86
        }
      ]
    },
    {
      "cell_type": "code",
      "metadata": {
        "colab": {
          "base_uri": "https://localhost:8080/"
        },
        "id": "l3UcWbE5YmLp",
        "outputId": "0abe571b-2bfc-40f1-f424-e165ae4fad4c"
      },
      "source": [
        "len(a)"
      ],
      "execution_count": null,
      "outputs": [
        {
          "output_type": "execute_result",
          "data": {
            "text/plain": [
              "3"
            ]
          },
          "metadata": {
            "tags": []
          },
          "execution_count": 87
        }
      ]
    },
    {
      "cell_type": "code",
      "metadata": {
        "colab": {
          "base_uri": "https://localhost:8080/"
        },
        "id": "dYik1bLLYs-b",
        "outputId": "4ce33939-bcd0-4c1f-9671-96307342566b"
      },
      "source": [
        "a"
      ],
      "execution_count": null,
      "outputs": [
        {
          "output_type": "execute_result",
          "data": {
            "text/plain": [
              "[1, 2, 3]"
            ]
          },
          "metadata": {
            "tags": []
          },
          "execution_count": 88
        }
      ]
    },
    {
      "cell_type": "code",
      "metadata": {
        "colab": {
          "base_uri": "https://localhost:8080/"
        },
        "id": "IcvhF3R8Yvxq",
        "outputId": "38cf9f62-c16d-4476-b993-d07bc40d4b94"
      },
      "source": [
        "a[1] = 8\n",
        "a"
      ],
      "execution_count": null,
      "outputs": [
        {
          "output_type": "execute_result",
          "data": {
            "text/plain": [
              "[1, 8, 3]"
            ]
          },
          "metadata": {
            "tags": []
          },
          "execution_count": 90
        }
      ]
    },
    {
      "cell_type": "code",
      "metadata": {
        "colab": {
          "base_uri": "https://localhost:8080/"
        },
        "id": "cgAFR3HnZBgQ",
        "outputId": "2ddbfee6-317d-42d8-bede-68b62f68d4d7"
      },
      "source": [
        "del a[1]\n",
        "a"
      ],
      "execution_count": null,
      "outputs": [
        {
          "output_type": "execute_result",
          "data": {
            "text/plain": [
              "[1, 3]"
            ]
          },
          "metadata": {
            "tags": []
          },
          "execution_count": 91
        }
      ]
    },
    {
      "cell_type": "code",
      "metadata": {
        "colab": {
          "base_uri": "https://localhost:8080/"
        },
        "id": "lziim9cbZTgx",
        "outputId": "a8c8e010-21dd-4de6-a363-c6b6033b6b05"
      },
      "source": [
        "a.append(5)\n",
        "a"
      ],
      "execution_count": null,
      "outputs": [
        {
          "output_type": "execute_result",
          "data": {
            "text/plain": [
              "[1, 3, 5]"
            ]
          },
          "metadata": {
            "tags": []
          },
          "execution_count": 92
        }
      ]
    },
    {
      "cell_type": "code",
      "metadata": {
        "colab": {
          "base_uri": "https://localhost:8080/"
        },
        "id": "9YBKd4caZjCJ",
        "outputId": "998b93a2-6bdf-4efd-bdc1-7e613e05ec52"
      },
      "source": [
        "a.insert(0, 7)\n",
        "a"
      ],
      "execution_count": null,
      "outputs": [
        {
          "output_type": "execute_result",
          "data": {
            "text/plain": [
              "[7, 1, 3, 5]"
            ]
          },
          "metadata": {
            "tags": []
          },
          "execution_count": 93
        }
      ]
    },
    {
      "cell_type": "code",
      "metadata": {
        "colab": {
          "base_uri": "https://localhost:8080/"
        },
        "id": "r0iUPG4pZ5s_",
        "outputId": "a5d16d64-25a9-4ece-8d2a-a73475749b4b"
      },
      "source": [
        "a = [1,4,2,3,0]\n",
        "a.sort()\n",
        "a"
      ],
      "execution_count": null,
      "outputs": [
        {
          "output_type": "execute_result",
          "data": {
            "text/plain": [
              "[0, 1, 2, 3, 4]"
            ]
          },
          "metadata": {
            "tags": []
          },
          "execution_count": 94
        }
      ]
    },
    {
      "cell_type": "code",
      "metadata": {
        "colab": {
          "base_uri": "https://localhost:8080/"
        },
        "id": "h99R560qaKWg",
        "outputId": "d1b01f5b-4997-42b0-ef3e-d2018b30f1de"
      },
      "source": [
        "a.reverse()\n",
        "a"
      ],
      "execution_count": null,
      "outputs": [
        {
          "output_type": "execute_result",
          "data": {
            "text/plain": [
              "[4, 3, 2, 1, 0]"
            ]
          },
          "metadata": {
            "tags": []
          },
          "execution_count": 95
        }
      ]
    },
    {
      "cell_type": "code",
      "metadata": {
        "colab": {
          "base_uri": "https://localhost:8080/"
        },
        "id": "U2o0jYT8aQ-k",
        "outputId": "79a3cdd0-b29a-4983-9bc1-b1a3c346a6c5"
      },
      "source": [
        "a = ['car', 'apple', 'banana']\n",
        "a.sort()\n",
        "a"
      ],
      "execution_count": null,
      "outputs": [
        {
          "output_type": "execute_result",
          "data": {
            "text/plain": [
              "['apple', 'banana', 'car']"
            ]
          },
          "metadata": {
            "tags": []
          },
          "execution_count": 96
        }
      ]
    },
    {
      "cell_type": "code",
      "metadata": {
        "colab": {
          "base_uri": "https://localhost:8080/"
        },
        "id": "GKfYnDc_acZw",
        "outputId": "3e6b77ac-0fed-4391-917f-a9e45ba3a510"
      },
      "source": [
        "a = [1,4,2,3,0]\n",
        "a.sort(reverse = True)\n",
        "a"
      ],
      "execution_count": null,
      "outputs": [
        {
          "output_type": "execute_result",
          "data": {
            "text/plain": [
              "[4, 3, 2, 1, 0]"
            ]
          },
          "metadata": {
            "tags": []
          },
          "execution_count": 97
        }
      ]
    },
    {
      "cell_type": "code",
      "metadata": {
        "colab": {
          "base_uri": "https://localhost:8080/"
        },
        "id": "xzjYj5Ina1Jq",
        "outputId": "d5e579e6-02b5-4918-b14c-a218c7e3f62e"
      },
      "source": [
        "a.index(3)"
      ],
      "execution_count": null,
      "outputs": [
        {
          "output_type": "execute_result",
          "data": {
            "text/plain": [
              "1"
            ]
          },
          "metadata": {
            "tags": []
          },
          "execution_count": 98
        }
      ]
    },
    {
      "cell_type": "code",
      "metadata": {
        "colab": {
          "base_uri": "https://localhost:8080/"
        },
        "id": "dphEWA95bJyg",
        "outputId": "9211b274-905f-42ad-98d7-3b30ffc54a4f"
      },
      "source": [
        "a.remove(0)\n",
        "a"
      ],
      "execution_count": null,
      "outputs": [
        {
          "output_type": "execute_result",
          "data": {
            "text/plain": [
              "[4, 3, 2, 1]"
            ]
          },
          "metadata": {
            "tags": []
          },
          "execution_count": 99
        }
      ]
    },
    {
      "cell_type": "code",
      "metadata": {
        "colab": {
          "base_uri": "https://localhost:8080/"
        },
        "id": "XjGcdzvabXDg",
        "outputId": "8628ab59-06fb-4565-bc8f-23214a7a05a6"
      },
      "source": [
        "a"
      ],
      "execution_count": null,
      "outputs": [
        {
          "output_type": "execute_result",
          "data": {
            "text/plain": [
              "[4, 3, 2, 1]"
            ]
          },
          "metadata": {
            "tags": []
          },
          "execution_count": 100
        }
      ]
    },
    {
      "cell_type": "code",
      "metadata": {
        "colab": {
          "base_uri": "https://localhost:8080/"
        },
        "id": "aysVxBkcbku5",
        "outputId": "8d62aa2e-df97-4583-e195-19eaa8863797"
      },
      "source": [
        "a = [4,3,2,1]\n",
        "z = a.remove(1)\n",
        "print(z)"
      ],
      "execution_count": null,
      "outputs": [
        {
          "output_type": "stream",
          "text": [
            "None\n"
          ],
          "name": "stdout"
        }
      ]
    },
    {
      "cell_type": "code",
      "metadata": {
        "colab": {
          "base_uri": "https://localhost:8080/"
        },
        "id": "QmkXbLfzbu7Q",
        "outputId": "189d5b77-c14a-4409-fe37-c60672a3e745"
      },
      "source": [
        "a"
      ],
      "execution_count": null,
      "outputs": [
        {
          "output_type": "execute_result",
          "data": {
            "text/plain": [
              "[4, 3, 2]"
            ]
          },
          "metadata": {
            "tags": []
          },
          "execution_count": 102
        }
      ]
    },
    {
      "cell_type": "code",
      "metadata": {
        "colab": {
          "base_uri": "https://localhost:8080/"
        },
        "id": "5EwuOPllbw0j",
        "outputId": "4ec80d59-ff06-4619-83d7-48cbfe1f0970"
      },
      "source": [
        "a = [4,3,2,1]\n",
        "z = a.pop()\n",
        "print(z)"
      ],
      "execution_count": null,
      "outputs": [
        {
          "output_type": "stream",
          "text": [
            "1\n"
          ],
          "name": "stdout"
        }
      ]
    },
    {
      "cell_type": "code",
      "metadata": {
        "colab": {
          "base_uri": "https://localhost:8080/"
        },
        "id": "Cu5q25phcAld",
        "outputId": "d9a27e78-4abf-4749-ef2d-0118bd2b1232"
      },
      "source": [
        "a = [4,3,2,1]\n",
        "a.pop()\n",
        "a"
      ],
      "execution_count": null,
      "outputs": [
        {
          "output_type": "execute_result",
          "data": {
            "text/plain": [
              "[4, 3, 2]"
            ]
          },
          "metadata": {
            "tags": []
          },
          "execution_count": 103
        }
      ]
    },
    {
      "cell_type": "code",
      "metadata": {
        "colab": {
          "base_uri": "https://localhost:8080/"
        },
        "id": "b7lEhcnJcCCH",
        "outputId": "698b5cc7-c49e-4e82-e83e-9daddfe2de67"
      },
      "source": [
        "a"
      ],
      "execution_count": null,
      "outputs": [
        {
          "output_type": "execute_result",
          "data": {
            "text/plain": [
              "[4, 3, 2]"
            ]
          },
          "metadata": {
            "tags": []
          },
          "execution_count": 105
        }
      ]
    },
    {
      "cell_type": "code",
      "metadata": {
        "colab": {
          "base_uri": "https://localhost:8080/"
        },
        "id": "TONw7eYUccXp",
        "outputId": "ccb15250-7715-431e-eb49-4a8148684e6d"
      },
      "source": [
        "a.count(2)"
      ],
      "execution_count": null,
      "outputs": [
        {
          "output_type": "execute_result",
          "data": {
            "text/plain": [
              "1"
            ]
          },
          "metadata": {
            "tags": []
          },
          "execution_count": 106
        }
      ]
    },
    {
      "cell_type": "code",
      "metadata": {
        "colab": {
          "base_uri": "https://localhost:8080/"
        },
        "id": "DEnfSHcXchGd",
        "outputId": "4cbaa95c-55b9-4636-eb15-8d9b74d30119"
      },
      "source": [
        "a"
      ],
      "execution_count": null,
      "outputs": [
        {
          "output_type": "execute_result",
          "data": {
            "text/plain": [
              "[4, 3, 2]"
            ]
          },
          "metadata": {
            "tags": []
          },
          "execution_count": 107
        }
      ]
    },
    {
      "cell_type": "code",
      "metadata": {
        "colab": {
          "base_uri": "https://localhost:8080/"
        },
        "id": "8yF-xSwZcl-f",
        "outputId": "fc66c403-9b8e-40ca-9cb8-991f77ce3eed"
      },
      "source": [
        "a.clear()\n",
        "a"
      ],
      "execution_count": null,
      "outputs": [
        {
          "output_type": "execute_result",
          "data": {
            "text/plain": [
              "[]"
            ]
          },
          "metadata": {
            "tags": []
          },
          "execution_count": 108
        }
      ]
    },
    {
      "cell_type": "code",
      "metadata": {
        "colab": {
          "base_uri": "https://localhost:8080/"
        },
        "id": "IkxCMV9Jcnui",
        "outputId": "0326926c-1b64-456c-cf7a-0962392550b2"
      },
      "source": [
        "# 튜플 자료형 : 리스트 똑같다. // 한번 정하면 절대 수정하거나 삭제할수가없다.\n",
        "\n",
        "a = (1,2,3,4,5)\n",
        "a"
      ],
      "execution_count": null,
      "outputs": [
        {
          "output_type": "execute_result",
          "data": {
            "text/plain": [
              "(1, 2, 3, 4, 5)"
            ]
          },
          "metadata": {
            "tags": []
          },
          "execution_count": 109
        }
      ]
    },
    {
      "cell_type": "code",
      "metadata": {
        "colab": {
          "base_uri": "https://localhost:8080/"
        },
        "id": "HDVnw8_8c8_S",
        "outputId": "a90c25cb-c994-45c9-b070-766aa27a9c57"
      },
      "source": [
        "a[1]"
      ],
      "execution_count": null,
      "outputs": [
        {
          "output_type": "execute_result",
          "data": {
            "text/plain": [
              "2"
            ]
          },
          "metadata": {
            "tags": []
          },
          "execution_count": 110
        }
      ]
    },
    {
      "cell_type": "code",
      "metadata": {
        "colab": {
          "base_uri": "https://localhost:8080/",
          "height": 186
        },
        "id": "KDZyv5jhc_Ug",
        "outputId": "22d8bd42-c5b6-488f-ecca-3b20f2b4d487"
      },
      "source": [
        "del a[1]\n",
        "a"
      ],
      "execution_count": null,
      "outputs": [
        {
          "output_type": "error",
          "ename": "TypeError",
          "evalue": "ignored",
          "traceback": [
            "\u001b[0;31m---------------------------------------------------------------------------\u001b[0m",
            "\u001b[0;31mTypeError\u001b[0m                                 Traceback (most recent call last)",
            "\u001b[0;32m<ipython-input-111-56405bf38f8d>\u001b[0m in \u001b[0;36m<module>\u001b[0;34m()\u001b[0m\n\u001b[0;32m----> 1\u001b[0;31m \u001b[0;32mdel\u001b[0m \u001b[0ma\u001b[0m\u001b[0;34m[\u001b[0m\u001b[0;36m1\u001b[0m\u001b[0;34m]\u001b[0m\u001b[0;34m\u001b[0m\u001b[0;34m\u001b[0m\u001b[0m\n\u001b[0m\u001b[1;32m      2\u001b[0m \u001b[0ma\u001b[0m\u001b[0;34m\u001b[0m\u001b[0;34m\u001b[0m\u001b[0m\n",
            "\u001b[0;31mTypeError\u001b[0m: 'tuple' object doesn't support item deletion"
          ]
        }
      ]
    },
    {
      "cell_type": "code",
      "metadata": {
        "colab": {
          "base_uri": "https://localhost:8080/"
        },
        "id": "f1wsCLE_dCzD",
        "outputId": "3dbc24a1-f6db-4952-b816-66e94bc2e41e"
      },
      "source": [
        "a"
      ],
      "execution_count": null,
      "outputs": [
        {
          "output_type": "execute_result",
          "data": {
            "text/plain": [
              "(1, 2, 3, 4, 5)"
            ]
          },
          "metadata": {
            "tags": []
          },
          "execution_count": 112
        }
      ]
    },
    {
      "cell_type": "code",
      "metadata": {
        "colab": {
          "base_uri": "https://localhost:8080/"
        },
        "id": "U4P-xmxDdRWI",
        "outputId": "9129db54-8871-4325-b8bc-c7990415f13c"
      },
      "source": [
        "tuple(list(a))"
      ],
      "execution_count": null,
      "outputs": [
        {
          "output_type": "execute_result",
          "data": {
            "text/plain": [
              "(1, 2, 3, 4, 5)"
            ]
          },
          "metadata": {
            "tags": []
          },
          "execution_count": 114
        }
      ]
    },
    {
      "cell_type": "code",
      "metadata": {
        "colab": {
          "base_uri": "https://localhost:8080/"
        },
        "id": "N7UuYcBhdVQI",
        "outputId": "4d077e86-89f2-403b-ee20-9800fe614d51"
      },
      "source": [
        "# 딕셔너리 : 사전\n",
        "\n",
        "a = {'이름':'곽경일', '성별':'남자', '이메일':'masterkyungil@gmail.com', '전화번호':'01029787983'}\n",
        "a"
      ],
      "execution_count": null,
      "outputs": [
        {
          "output_type": "execute_result",
          "data": {
            "text/plain": [
              "{'성별': '남자',\n",
              " '이름': '곽경일',\n",
              " '이메일': 'masterkyungil@gmail.com',\n",
              " '전화번호': '01029787983'}"
            ]
          },
          "metadata": {
            "tags": []
          },
          "execution_count": 115
        }
      ]
    },
    {
      "cell_type": "code",
      "metadata": {
        "colab": {
          "base_uri": "https://localhost:8080/",
          "height": 34
        },
        "id": "Ns2C1iMvvl0M",
        "outputId": "ff79912a-c0f8-4886-f071-d62638227c6c"
      },
      "source": [
        "# 왼쪽 : KEY\n",
        "# 오른쪽 : VALUE\n",
        "\n",
        "a['이름'] "
      ],
      "execution_count": null,
      "outputs": [
        {
          "output_type": "execute_result",
          "data": {
            "application/vnd.google.colaboratory.intrinsic+json": {
              "type": "string"
            },
            "text/plain": [
              "'곽경일'"
            ]
          },
          "metadata": {
            "tags": []
          },
          "execution_count": 116
        }
      ]
    },
    {
      "cell_type": "code",
      "metadata": {
        "colab": {
          "base_uri": "https://localhost:8080/",
          "height": 168
        },
        "id": "6kITAnUNvsUl",
        "outputId": "4c139624-9f42-4f6f-9d35-fc207ad7da20"
      },
      "source": [
        "a['곽경일']"
      ],
      "execution_count": null,
      "outputs": [
        {
          "output_type": "error",
          "ename": "KeyError",
          "evalue": "ignored",
          "traceback": [
            "\u001b[0;31m---------------------------------------------------------------------------\u001b[0m",
            "\u001b[0;31mKeyError\u001b[0m                                  Traceback (most recent call last)",
            "\u001b[0;32m<ipython-input-117-322f81e18041>\u001b[0m in \u001b[0;36m<module>\u001b[0;34m()\u001b[0m\n\u001b[0;32m----> 1\u001b[0;31m \u001b[0ma\u001b[0m\u001b[0;34m[\u001b[0m\u001b[0;34m'곽경일'\u001b[0m\u001b[0;34m]\u001b[0m\u001b[0;34m\u001b[0m\u001b[0;34m\u001b[0m\u001b[0m\n\u001b[0m",
            "\u001b[0;31mKeyError\u001b[0m: '곽경일'"
          ]
        }
      ]
    },
    {
      "cell_type": "code",
      "metadata": {
        "colab": {
          "base_uri": "https://localhost:8080/"
        },
        "id": "HPdNVj9ev3nl",
        "outputId": "4c1522dc-ee04-4639-93f7-a780c881630e"
      },
      "source": [
        "a['이상형'] = '장원영'\n",
        "a"
      ],
      "execution_count": null,
      "outputs": [
        {
          "output_type": "execute_result",
          "data": {
            "text/plain": [
              "{'성별': '남자',\n",
              " '이름': '곽경일',\n",
              " '이메일': 'masterkyungil@gmail.com',\n",
              " '이상형': '장원영',\n",
              " '전화번호': '01029787983'}"
            ]
          },
          "metadata": {
            "tags": []
          },
          "execution_count": 118
        }
      ]
    },
    {
      "cell_type": "code",
      "metadata": {
        "colab": {
          "base_uri": "https://localhost:8080/"
        },
        "id": "q5HkDvjwwETr",
        "outputId": "afa7ce95-6f94-4c75-8166-f2da0e9cf02c"
      },
      "source": [
        "del a['이상형']\n",
        "a"
      ],
      "execution_count": null,
      "outputs": [
        {
          "output_type": "execute_result",
          "data": {
            "text/plain": [
              "{'성별': '남자',\n",
              " '이름': '곽경일',\n",
              " '이메일': 'masterkyungil@gmail.com',\n",
              " '전화번호': '01029787983'}"
            ]
          },
          "metadata": {
            "tags": []
          },
          "execution_count": 119
        }
      ]
    },
    {
      "cell_type": "code",
      "metadata": {
        "colab": {
          "base_uri": "https://localhost:8080/"
        },
        "id": "2vqhCq09wRa8",
        "outputId": "473dd95c-b643-42e7-a849-51d2d80085da"
      },
      "source": [
        "a.keys()"
      ],
      "execution_count": null,
      "outputs": [
        {
          "output_type": "execute_result",
          "data": {
            "text/plain": [
              "dict_keys(['이름', '성별', '이메일', '전화번호'])"
            ]
          },
          "metadata": {
            "tags": []
          },
          "execution_count": 120
        }
      ]
    },
    {
      "cell_type": "code",
      "metadata": {
        "colab": {
          "base_uri": "https://localhost:8080/"
        },
        "id": "3ro7iUvnwdZd",
        "outputId": "26b2651e-46cf-46a7-dd1b-c19784ce3824"
      },
      "source": [
        "a.values()"
      ],
      "execution_count": null,
      "outputs": [
        {
          "output_type": "execute_result",
          "data": {
            "text/plain": [
              "dict_values(['곽경일', '남자', 'masterkyungil@gmail.com', '01029787983'])"
            ]
          },
          "metadata": {
            "tags": []
          },
          "execution_count": 121
        }
      ]
    },
    {
      "cell_type": "code",
      "metadata": {
        "colab": {
          "base_uri": "https://localhost:8080/"
        },
        "id": "oT3c9r6owhV4",
        "outputId": "7d03273f-36ce-4f4b-95f4-0b4fdcde210f"
      },
      "source": [
        "a.items()"
      ],
      "execution_count": null,
      "outputs": [
        {
          "output_type": "execute_result",
          "data": {
            "text/plain": [
              "dict_items([('이름', '곽경일'), ('성별', '남자'), ('이메일', 'masterkyungil@gmail.com'), ('전화번호', '01029787983')])"
            ]
          },
          "metadata": {
            "tags": []
          },
          "execution_count": 122
        }
      ]
    },
    {
      "cell_type": "code",
      "metadata": {
        "colab": {
          "base_uri": "https://localhost:8080/"
        },
        "id": "WWEFzf3DwnZk",
        "outputId": "80d8e03c-4670-4121-b0af-b0f2da720379"
      },
      "source": [
        "'이름' in a"
      ],
      "execution_count": null,
      "outputs": [
        {
          "output_type": "execute_result",
          "data": {
            "text/plain": [
              "True"
            ]
          },
          "metadata": {
            "tags": []
          },
          "execution_count": 123
        }
      ]
    },
    {
      "cell_type": "code",
      "metadata": {
        "colab": {
          "base_uri": "https://localhost:8080/"
        },
        "id": "0sW9GDhVwzTf",
        "outputId": "7170f058-70bd-498c-d216-fb28db93ebd6"
      },
      "source": [
        "'집' in a"
      ],
      "execution_count": null,
      "outputs": [
        {
          "output_type": "execute_result",
          "data": {
            "text/plain": [
              "False"
            ]
          },
          "metadata": {
            "tags": []
          },
          "execution_count": 124
        }
      ]
    },
    {
      "cell_type": "code",
      "metadata": {
        "colab": {
          "base_uri": "https://localhost:8080/"
        },
        "id": "5WQXhHHUw1hH",
        "outputId": "531fc302-1673-4d91-ad67-77c0cc694c98"
      },
      "source": [
        "'곽경일' in a"
      ],
      "execution_count": null,
      "outputs": [
        {
          "output_type": "execute_result",
          "data": {
            "text/plain": [
              "False"
            ]
          },
          "metadata": {
            "tags": []
          },
          "execution_count": 125
        }
      ]
    },
    {
      "cell_type": "code",
      "metadata": {
        "colab": {
          "base_uri": "https://localhost:8080/"
        },
        "id": "mcbgh-qCw5C7",
        "outputId": "81ba165c-4d50-4492-b536-c867bc53e5d9"
      },
      "source": [
        "a = set([1,2,3,1,1,1])\n",
        "a"
      ],
      "execution_count": null,
      "outputs": [
        {
          "output_type": "execute_result",
          "data": {
            "text/plain": [
              "{1, 2, 3}"
            ]
          },
          "metadata": {
            "tags": []
          },
          "execution_count": 126
        }
      ]
    },
    {
      "cell_type": "code",
      "metadata": {
        "colab": {
          "base_uri": "https://localhost:8080/"
        },
        "id": "4gdmICLBxh-W",
        "outputId": "a427c05e-1a8b-4b6d-c7c2-e31c74316fde"
      },
      "source": [
        "a = set('hello world!')\n",
        "a"
      ],
      "execution_count": null,
      "outputs": [
        {
          "output_type": "execute_result",
          "data": {
            "text/plain": [
              "{' ', '!', 'd', 'e', 'h', 'l', 'o', 'r', 'w'}"
            ]
          },
          "metadata": {
            "tags": []
          },
          "execution_count": 127
        }
      ]
    },
    {
      "cell_type": "code",
      "metadata": {
        "colab": {
          "base_uri": "https://localhost:8080/"
        },
        "id": "NSLYCMwdxq9b",
        "outputId": "d5480e7a-e28b-4949-db3f-c42b743275a8"
      },
      "source": [
        "a = set([1,2,3,4,5,6])\n",
        "b = set([4,5,6,7,8,9])\n",
        "\n",
        "a & b"
      ],
      "execution_count": null,
      "outputs": [
        {
          "output_type": "execute_result",
          "data": {
            "text/plain": [
              "{4, 5, 6}"
            ]
          },
          "metadata": {
            "tags": []
          },
          "execution_count": 128
        }
      ]
    },
    {
      "cell_type": "code",
      "metadata": {
        "colab": {
          "base_uri": "https://localhost:8080/"
        },
        "id": "Z8R2T3b4yH9B",
        "outputId": "023fa1f7-da8a-492c-d066-1cff39c6b83c"
      },
      "source": [
        "a.intersection(b)"
      ],
      "execution_count": null,
      "outputs": [
        {
          "output_type": "execute_result",
          "data": {
            "text/plain": [
              "{4, 5, 6}"
            ]
          },
          "metadata": {
            "tags": []
          },
          "execution_count": 129
        }
      ]
    },
    {
      "cell_type": "code",
      "metadata": {
        "colab": {
          "base_uri": "https://localhost:8080/"
        },
        "id": "d1gEgiNxyNBV",
        "outputId": "94e777f8-47c7-42ce-dea0-61ddf4c6c06f"
      },
      "source": [
        "a | b "
      ],
      "execution_count": null,
      "outputs": [
        {
          "output_type": "execute_result",
          "data": {
            "text/plain": [
              "{1, 2, 3, 4, 5, 6, 7, 8, 9}"
            ]
          },
          "metadata": {
            "tags": []
          },
          "execution_count": 130
        }
      ]
    },
    {
      "cell_type": "code",
      "metadata": {
        "colab": {
          "base_uri": "https://localhost:8080/"
        },
        "id": "QXDQ1twXyRdG",
        "outputId": "5cc1d1cf-78b2-4378-e447-b432b239106e"
      },
      "source": [
        "a - b"
      ],
      "execution_count": null,
      "outputs": [
        {
          "output_type": "execute_result",
          "data": {
            "text/plain": [
              "{1, 2, 3}"
            ]
          },
          "metadata": {
            "tags": []
          },
          "execution_count": 131
        }
      ]
    },
    {
      "cell_type": "code",
      "metadata": {
        "colab": {
          "base_uri": "https://localhost:8080/"
        },
        "id": "ECL0luswyc9l",
        "outputId": "f54738f6-0247-4e78-b94f-13d2c6b38f19"
      },
      "source": [
        "a.add(7)\n",
        "a"
      ],
      "execution_count": null,
      "outputs": [
        {
          "output_type": "execute_result",
          "data": {
            "text/plain": [
              "{1, 2, 3, 4, 5, 6, 7}"
            ]
          },
          "metadata": {
            "tags": []
          },
          "execution_count": 132
        }
      ]
    },
    {
      "cell_type": "code",
      "metadata": {
        "colab": {
          "base_uri": "https://localhost:8080/"
        },
        "id": "8rbX0av-ylTf",
        "outputId": "0ecd603c-3211-4840-b6cd-33cd60e01fb5"
      },
      "source": [
        "a.update([8,9,10])\n",
        "a"
      ],
      "execution_count": null,
      "outputs": [
        {
          "output_type": "execute_result",
          "data": {
            "text/plain": [
              "{1, 2, 3, 4, 5, 6, 7, 8, 9, 10}"
            ]
          },
          "metadata": {
            "tags": []
          },
          "execution_count": 133
        }
      ]
    },
    {
      "cell_type": "code",
      "metadata": {
        "colab": {
          "base_uri": "https://localhost:8080/"
        },
        "id": "_tpWOYE7ystl",
        "outputId": "0b75afe5-f3cb-423d-aba7-de870496a34d"
      },
      "source": [
        "a.remove(10)\n",
        "a"
      ],
      "execution_count": null,
      "outputs": [
        {
          "output_type": "execute_result",
          "data": {
            "text/plain": [
              "{1, 2, 3, 4, 5, 6, 7, 8, 9}"
            ]
          },
          "metadata": {
            "tags": []
          },
          "execution_count": 134
        }
      ]
    },
    {
      "cell_type": "code",
      "metadata": {
        "colab": {
          "base_uri": "https://localhost:8080/"
        },
        "id": "bkCGizDyyyTy",
        "outputId": "87f84ff7-8296-4cfe-80a6-3522bcdbbe59"
      },
      "source": [
        "3 > 2"
      ],
      "execution_count": null,
      "outputs": [
        {
          "output_type": "execute_result",
          "data": {
            "text/plain": [
              "True"
            ]
          },
          "metadata": {
            "tags": []
          },
          "execution_count": 135
        }
      ]
    },
    {
      "cell_type": "code",
      "metadata": {
        "colab": {
          "base_uri": "https://localhost:8080/"
        },
        "id": "G4b2vGL0zGcT",
        "outputId": "df6b537f-3a48-4837-a9f8-9e0eac97c915"
      },
      "source": [
        "# BOOL 자료형 : 참, 거짓\n",
        "# 비어있으면 거짓\n",
        "bool(5)"
      ],
      "execution_count": null,
      "outputs": [
        {
          "output_type": "execute_result",
          "data": {
            "text/plain": [
              "True"
            ]
          },
          "metadata": {
            "tags": []
          },
          "execution_count": 136
        }
      ]
    },
    {
      "cell_type": "code",
      "metadata": {
        "colab": {
          "base_uri": "https://localhost:8080/"
        },
        "id": "AthquJnKzTX8",
        "outputId": "85ec6791-0547-4706-f2c0-e1511fbe3954"
      },
      "source": [
        "bool(-5)"
      ],
      "execution_count": null,
      "outputs": [
        {
          "output_type": "execute_result",
          "data": {
            "text/plain": [
              "True"
            ]
          },
          "metadata": {
            "tags": []
          },
          "execution_count": 137
        }
      ]
    },
    {
      "cell_type": "code",
      "metadata": {
        "colab": {
          "base_uri": "https://localhost:8080/"
        },
        "id": "6sDFDa2QzWn8",
        "outputId": "f5147a06-52c7-427d-bb5c-8d7449517058"
      },
      "source": [
        "bool(0)"
      ],
      "execution_count": null,
      "outputs": [
        {
          "output_type": "execute_result",
          "data": {
            "text/plain": [
              "False"
            ]
          },
          "metadata": {
            "tags": []
          },
          "execution_count": 138
        }
      ]
    },
    {
      "cell_type": "code",
      "metadata": {
        "colab": {
          "base_uri": "https://localhost:8080/"
        },
        "id": "dOPNuj3Uza4U",
        "outputId": "d2ab4426-5b29-4513-b30c-08513f9397c8"
      },
      "source": [
        "bool([])"
      ],
      "execution_count": null,
      "outputs": [
        {
          "output_type": "execute_result",
          "data": {
            "text/plain": [
              "False"
            ]
          },
          "metadata": {
            "tags": []
          },
          "execution_count": 139
        }
      ]
    },
    {
      "cell_type": "code",
      "metadata": {
        "colab": {
          "base_uri": "https://localhost:8080/"
        },
        "id": "fXajqyXOzlW9",
        "outputId": "dfe56f3b-07c9-41ac-fa8d-18cc3af43f70"
      },
      "source": [
        "bool([3])"
      ],
      "execution_count": null,
      "outputs": [
        {
          "output_type": "execute_result",
          "data": {
            "text/plain": [
              "True"
            ]
          },
          "metadata": {
            "tags": []
          },
          "execution_count": 140
        }
      ]
    },
    {
      "cell_type": "code",
      "metadata": {
        "colab": {
          "base_uri": "https://localhost:8080/"
        },
        "id": "UDxEXYUwzmyl",
        "outputId": "f6eb45f7-9cdb-4990-eea0-e41c937fb9f1"
      },
      "source": [
        "bool('')"
      ],
      "execution_count": null,
      "outputs": [
        {
          "output_type": "execute_result",
          "data": {
            "text/plain": [
              "False"
            ]
          },
          "metadata": {
            "tags": []
          },
          "execution_count": 141
        }
      ]
    },
    {
      "cell_type": "code",
      "metadata": {
        "colab": {
          "base_uri": "https://localhost:8080/"
        },
        "id": "DM8SUjuuzoq3",
        "outputId": "a5e3a941-e5ad-4c80-aef3-774b3f3a1c62"
      },
      "source": [
        "bool('t')"
      ],
      "execution_count": null,
      "outputs": [
        {
          "output_type": "execute_result",
          "data": {
            "text/plain": [
              "True"
            ]
          },
          "metadata": {
            "tags": []
          },
          "execution_count": 142
        }
      ]
    },
    {
      "cell_type": "code",
      "metadata": {
        "colab": {
          "base_uri": "https://localhost:8080/"
        },
        "id": "dLaUxV6JzqtV",
        "outputId": "9ee324e8-0aff-4e93-f8b0-7450f21af7ce"
      },
      "source": [
        "a = 3\n",
        "b = 5\n",
        "\n",
        "a,b = b,a\n",
        "\n",
        "print(a, b)"
      ],
      "execution_count": null,
      "outputs": [
        {
          "output_type": "stream",
          "text": [
            "5 3\n"
          ],
          "name": "stdout"
        }
      ]
    },
    {
      "cell_type": "code",
      "metadata": {
        "colab": {
          "base_uri": "https://localhost:8080/"
        },
        "id": "Wdbh87F4z9M4",
        "outputId": "88910c1f-a054-4943-ed39-d3b635a17692"
      },
      "source": [
        "a = 5\n",
        "b = a\n",
        "\n",
        "b = 1\n",
        "b"
      ],
      "execution_count": null,
      "outputs": [
        {
          "output_type": "execute_result",
          "data": {
            "text/plain": [
              "1"
            ]
          },
          "metadata": {
            "tags": []
          },
          "execution_count": 147
        }
      ]
    },
    {
      "cell_type": "code",
      "metadata": {
        "colab": {
          "base_uri": "https://localhost:8080/"
        },
        "id": "7WXXoNq31ogI",
        "outputId": "32869d2d-64d4-43c1-8afe-fc6257a828b5"
      },
      "source": [
        "a"
      ],
      "execution_count": null,
      "outputs": [
        {
          "output_type": "execute_result",
          "data": {
            "text/plain": [
              "5"
            ]
          },
          "metadata": {
            "tags": []
          },
          "execution_count": 148
        }
      ]
    },
    {
      "cell_type": "code",
      "metadata": {
        "colab": {
          "base_uri": "https://localhost:8080/"
        },
        "id": "CUhiciE51rak",
        "outputId": "6d0df7dc-4bf2-4502-ccda-20a4edd311bc"
      },
      "source": [
        "a = [1,4,3,2]\n",
        "b = a[:]\n",
        "\n",
        "b[1] = 9\n",
        "b"
      ],
      "execution_count": null,
      "outputs": [
        {
          "output_type": "execute_result",
          "data": {
            "text/plain": [
              "[1, 9, 3, 2]"
            ]
          },
          "metadata": {
            "tags": []
          },
          "execution_count": 151
        }
      ]
    },
    {
      "cell_type": "code",
      "metadata": {
        "colab": {
          "base_uri": "https://localhost:8080/"
        },
        "id": "AX9jalyQ2A_q",
        "outputId": "f5ce65fd-468c-4e94-ebd2-a89de4af9023"
      },
      "source": [
        "a"
      ],
      "execution_count": null,
      "outputs": [
        {
          "output_type": "execute_result",
          "data": {
            "text/plain": [
              "[1, 4, 3, 2]"
            ]
          },
          "metadata": {
            "tags": []
          },
          "execution_count": 152
        }
      ]
    },
    {
      "cell_type": "code",
      "metadata": {
        "id": "9acopgEE2EHw"
      },
      "source": [
        "a,b = [1, 2]"
      ],
      "execution_count": null,
      "outputs": []
    },
    {
      "cell_type": "code",
      "metadata": {
        "colab": {
          "base_uri": "https://localhost:8080/"
        },
        "id": "Jj2-4-mV3qb7",
        "outputId": "820b7f99-20ac-4fe3-9ea7-3b202673ea8e"
      },
      "source": [
        "a"
      ],
      "execution_count": null,
      "outputs": [
        {
          "output_type": "execute_result",
          "data": {
            "text/plain": [
              "1"
            ]
          },
          "metadata": {
            "tags": []
          },
          "execution_count": 154
        }
      ]
    },
    {
      "cell_type": "code",
      "metadata": {
        "colab": {
          "base_uri": "https://localhost:8080/"
        },
        "id": "fpl6mSqp3qz1",
        "outputId": "cc1fdc03-7855-4cfe-9993-3417d9444bd0"
      },
      "source": [
        "b"
      ],
      "execution_count": null,
      "outputs": [
        {
          "output_type": "execute_result",
          "data": {
            "text/plain": [
              "2"
            ]
          },
          "metadata": {
            "tags": []
          },
          "execution_count": 155
        }
      ]
    },
    {
      "cell_type": "code",
      "metadata": {
        "colab": {
          "base_uri": "https://localhost:8080/",
          "height": 34
        },
        "id": "ClCqS6JQ3rEG",
        "outputId": "22a1afa9-1f0e-4e3b-f10b-e8457f9a724f"
      },
      "source": [
        "a = '881120-1028234'\n",
        "a[7:]"
      ],
      "execution_count": null,
      "outputs": [
        {
          "output_type": "execute_result",
          "data": {
            "application/vnd.google.colaboratory.intrinsic+json": {
              "type": "string"
            },
            "text/plain": [
              "'1028234'"
            ]
          },
          "metadata": {
            "tags": []
          },
          "execution_count": 156
        }
      ]
    },
    {
      "cell_type": "code",
      "metadata": {
        "colab": {
          "base_uri": "https://localhost:8080/",
          "height": 34
        },
        "id": "76YnFDXY49HD",
        "outputId": "800b6b4e-f38b-43ed-e256-df4285c35b5d"
      },
      "source": [
        "a = 'a:b:c:d' # a#b#c#d\n",
        "a.replace(':','#')"
      ],
      "execution_count": null,
      "outputs": [
        {
          "output_type": "execute_result",
          "data": {
            "application/vnd.google.colaboratory.intrinsic+json": {
              "type": "string"
            },
            "text/plain": [
              "'a#b#c#d'"
            ]
          },
          "metadata": {
            "tags": []
          },
          "execution_count": 157
        }
      ]
    },
    {
      "cell_type": "code",
      "metadata": {
        "colab": {
          "base_uri": "https://localhost:8080/"
        },
        "id": "5zpfaYQE6Bc5",
        "outputId": "4b044b9a-74c1-41b5-8fe2-59b1ed8f9108"
      },
      "source": [
        "a = [1,3,5,4,2] # [5,4,3,2,1]\n",
        "\n",
        "a.sort()\n",
        "a.reverse()\n",
        "\n",
        "a"
      ],
      "execution_count": null,
      "outputs": [
        {
          "output_type": "execute_result",
          "data": {
            "text/plain": [
              "[5, 4, 3, 2, 1]"
            ]
          },
          "metadata": {
            "tags": []
          },
          "execution_count": 158
        }
      ]
    },
    {
      "cell_type": "code",
      "metadata": {
        "colab": {
          "base_uri": "https://localhost:8080/",
          "height": 34
        },
        "id": "colGJrAK63h7",
        "outputId": "7217b62f-c700-484c-ddec-d12084449b0d"
      },
      "source": [
        "a = ['Life', 'is', 'too', 'short'] # join\n",
        "\n",
        "' '.join(a)"
      ],
      "execution_count": null,
      "outputs": [
        {
          "output_type": "execute_result",
          "data": {
            "application/vnd.google.colaboratory.intrinsic+json": {
              "type": "string"
            },
            "text/plain": [
              "'Life is too short'"
            ]
          },
          "metadata": {
            "tags": []
          },
          "execution_count": 159
        }
      ]
    },
    {
      "cell_type": "code",
      "metadata": {
        "colab": {
          "base_uri": "https://localhost:8080/"
        },
        "id": "jBjdf_lR8FCh",
        "outputId": "4d8bbbef-b124-4920-fcd2-ba6dff4db3f1"
      },
      "source": [
        "a = [1,1,1,2,2,3,3,3,4,4,5,5,5,5] # [1,2,3,4,5]\n",
        "list(set(a))"
      ],
      "execution_count": null,
      "outputs": [
        {
          "output_type": "execute_result",
          "data": {
            "text/plain": [
              "[1, 2, 3, 4, 5]"
            ]
          },
          "metadata": {
            "tags": []
          },
          "execution_count": 161
        }
      ]
    },
    {
      "cell_type": "code",
      "metadata": {
        "colab": {
          "base_uri": "https://localhost:8080/"
        },
        "id": "1fuMsd4A8qV6",
        "outputId": "d8bd155e-fdc8-4f80-c2dc-dd93db85d0bb"
      },
      "source": [
        "# if\n",
        "#if 조건:\n",
        "\n",
        "money = True\n",
        "if money == True:\n",
        "  print('taxi')\n",
        "else:\n",
        "  print('walk')"
      ],
      "execution_count": null,
      "outputs": [
        {
          "output_type": "stream",
          "text": [
            "taxi\n"
          ],
          "name": "stdout"
        }
      ]
    },
    {
      "cell_type": "code",
      "metadata": {
        "colab": {
          "base_uri": "https://localhost:8080/"
        },
        "id": "PZc_3xp-Ayuv",
        "outputId": "ab6bead5-d6b0-4330-d995-8be3b32efe04"
      },
      "source": [
        "money = 2000\n",
        "\n",
        "if money >= 3000:\n",
        "  print('taxi')\n",
        "else:\n",
        "  print('walk')"
      ],
      "execution_count": null,
      "outputs": [
        {
          "output_type": "stream",
          "text": [
            "walk\n"
          ],
          "name": "stdout"
        }
      ]
    },
    {
      "cell_type": "code",
      "metadata": {
        "colab": {
          "base_uri": "https://localhost:8080/"
        },
        "id": "V8lpaDYcA8pa",
        "outputId": "cc80ebe5-a354-457b-cfa6-5d0e19773912"
      },
      "source": [
        "money = 2000\n",
        "card = True\n",
        "\n",
        "if money >= 3000 or card == True:\n",
        "  print('taxi')\n",
        "else:\n",
        "  print('walk')"
      ],
      "execution_count": null,
      "outputs": [
        {
          "output_type": "stream",
          "text": [
            "taxi\n"
          ],
          "name": "stdout"
        }
      ]
    },
    {
      "cell_type": "code",
      "metadata": {
        "colab": {
          "base_uri": "https://localhost:8080/"
        },
        "id": "QhdpoYFsBKBt",
        "outputId": "c71b7d13-2040-481b-9906-c6296f130ed2"
      },
      "source": [
        "money = 2000\n",
        "card = True\n",
        "\n",
        "if money >= 3000 and card == True:\n",
        "  print('taxi')\n",
        "else:\n",
        "  print('walk')"
      ],
      "execution_count": null,
      "outputs": [
        {
          "output_type": "stream",
          "text": [
            "walk\n"
          ],
          "name": "stdout"
        }
      ]
    },
    {
      "cell_type": "code",
      "metadata": {
        "colab": {
          "base_uri": "https://localhost:8080/"
        },
        "id": "Vt2zSJrJBQh3",
        "outputId": "f0cee5cf-7ac3-4f45-bb46-b73c773dbb33"
      },
      "source": [
        "pocket = ['paper', 'cellphone', 'money']\n",
        "\n",
        "if 'money' in pocket:\n",
        "  print('taxi')\n",
        "else:\n",
        "  print('walk')"
      ],
      "execution_count": null,
      "outputs": [
        {
          "output_type": "stream",
          "text": [
            "taxi\n"
          ],
          "name": "stdout"
        }
      ]
    },
    {
      "cell_type": "code",
      "metadata": {
        "colab": {
          "base_uri": "https://localhost:8080/"
        },
        "id": "TXKAj4dbBe54",
        "outputId": "862c1f4b-4ac6-48de-ad5c-51734abc78e2"
      },
      "source": [
        "pocket = ['paper', 'cellphone']\n",
        "card = True\n",
        "\n",
        "if 'money' in pocket:\n",
        "  print('taxi')\n",
        "else:\n",
        "  if card == True:\n",
        "    print('taxi')\n",
        "  else:\n",
        "    print('walk')"
      ],
      "execution_count": null,
      "outputs": [
        {
          "output_type": "stream",
          "text": [
            "taxi\n"
          ],
          "name": "stdout"
        }
      ]
    },
    {
      "cell_type": "code",
      "metadata": {
        "colab": {
          "base_uri": "https://localhost:8080/"
        },
        "id": "PgUB99FNB1e4",
        "outputId": "d6d9600e-f504-4dfb-a475-123c02c2ac50"
      },
      "source": [
        "pocket = ['paper', 'cellphone']\n",
        "card = True\n",
        "\n",
        "if 'money' in pocket:\n",
        "  print('taxi')\n",
        "elif card == True:\n",
        "  print('taxi')"
      ],
      "execution_count": null,
      "outputs": [
        {
          "output_type": "stream",
          "text": [
            "taxi\n"
          ],
          "name": "stdout"
        }
      ]
    },
    {
      "cell_type": "code",
      "metadata": {
        "colab": {
          "base_uri": "https://localhost:8080/",
          "height": 34
        },
        "id": "SmPwz0n6CA-r",
        "outputId": "77fd18ca-d72a-4191-ae72-7b2d0add97e0"
      },
      "source": [
        "score = 60\n",
        "\n",
        "if score >= 60:\n",
        "  message = 'success'\n",
        "else:\n",
        "  message = 'failure'\n",
        "\n",
        "message"
      ],
      "execution_count": null,
      "outputs": [
        {
          "output_type": "execute_result",
          "data": {
            "application/vnd.google.colaboratory.intrinsic+json": {
              "type": "string"
            },
            "text/plain": [
              "'success'"
            ]
          },
          "metadata": {
            "tags": []
          },
          "execution_count": 170
        }
      ]
    },
    {
      "cell_type": "code",
      "metadata": {
        "colab": {
          "base_uri": "https://localhost:8080/",
          "height": 34
        },
        "id": "0WrQD9KqCTEi",
        "outputId": "5b2ff50f-a0f9-408c-b83e-5c5d8c6d3b92"
      },
      "source": [
        "score = 40\n",
        "message = 'success' if score >= 60 else 'failure'\n",
        "message"
      ],
      "execution_count": null,
      "outputs": [
        {
          "output_type": "execute_result",
          "data": {
            "application/vnd.google.colaboratory.intrinsic+json": {
              "type": "string"
            },
            "text/plain": [
              "'failure'"
            ]
          },
          "metadata": {
            "tags": []
          },
          "execution_count": 172
        }
      ]
    },
    {
      "cell_type": "code",
      "metadata": {
        "colab": {
          "base_uri": "https://localhost:8080/"
        },
        "id": "v1_uXaU-CdKq",
        "outputId": "62dc199d-d554-43e6-82cd-000f13b35c21"
      },
      "source": [
        "# 반복문\n",
        "\n",
        "# while : 조건만 맞으면 무한반복\n",
        "# for : 순서가 있는 유한반복\n",
        "\n",
        "#while 조건:\n",
        "\n",
        "hit = 0\n",
        "\n",
        "while hit < 10:\n",
        "  hit = hit + 1\n",
        "  print('나무를 {}번 찍었습니다.'.format(hit))\n",
        "  if hit == 10:\n",
        "    print('나무가 쓰러졌습니다.')"
      ],
      "execution_count": null,
      "outputs": [
        {
          "output_type": "stream",
          "text": [
            "나무를 1번 찍었습니다.\n",
            "나무를 2번 찍었습니다.\n",
            "나무를 3번 찍었습니다.\n",
            "나무를 4번 찍었습니다.\n",
            "나무를 5번 찍었습니다.\n",
            "나무를 6번 찍었습니다.\n",
            "나무를 7번 찍었습니다.\n",
            "나무를 8번 찍었습니다.\n",
            "나무를 9번 찍었습니다.\n",
            "나무를 10번 찍었습니다.\n",
            "나무가 쓰러졌습니다.\n"
          ],
          "name": "stdout"
        }
      ]
    },
    {
      "cell_type": "code",
      "metadata": {
        "colab": {
          "base_uri": "https://localhost:8080/"
        },
        "id": "tojD6KMsDAaP",
        "outputId": "1ac58bbc-a4b2-417b-cbc0-7494836343e6"
      },
      "source": [
        "coffee = 10\n",
        "\n",
        "while True:\n",
        "  coffee = coffee - 1\n",
        "  print('커피를 한잔팔고, {}잔 남았습니다.'.format(coffee))\n",
        "  if coffee == 0:\n",
        "    print('커피를 모두 팔았습니다.')\n",
        "    break # 반복문을 돌리다가 얘를 만나면 반복문을 강제로 나갑니다."
      ],
      "execution_count": null,
      "outputs": [
        {
          "output_type": "stream",
          "text": [
            "커피를 한잔팔고, 9잔 남았습니다.\n",
            "커피를 한잔팔고, 8잔 남았습니다.\n",
            "커피를 한잔팔고, 7잔 남았습니다.\n",
            "커피를 한잔팔고, 6잔 남았습니다.\n",
            "커피를 한잔팔고, 5잔 남았습니다.\n",
            "커피를 한잔팔고, 4잔 남았습니다.\n",
            "커피를 한잔팔고, 3잔 남았습니다.\n",
            "커피를 한잔팔고, 2잔 남았습니다.\n",
            "커피를 한잔팔고, 1잔 남았습니다.\n",
            "커피를 한잔팔고, 0잔 남았습니다.\n",
            "커피를 모두 팔았습니다.\n"
          ],
          "name": "stdout"
        }
      ]
    },
    {
      "cell_type": "code",
      "metadata": {
        "colab": {
          "base_uri": "https://localhost:8080/"
        },
        "id": "ndH4a_cMEI2Z",
        "outputId": "6f40ee84-cc20-4cf4-ae21-1eb7161c501a"
      },
      "source": [
        "a = 0\n",
        "\n",
        "while a < 10: # 여기로 이동합니다.\n",
        "  a += 1\n",
        "  if a % 2 == 0:\n",
        "    continue # 반복문을 돌리다가 얘를 만나면\n",
        "  print(a)"
      ],
      "execution_count": null,
      "outputs": [
        {
          "output_type": "stream",
          "text": [
            "1\n",
            "3\n",
            "5\n",
            "7\n",
            "9\n"
          ],
          "name": "stdout"
        }
      ]
    },
    {
      "cell_type": "code",
      "metadata": {
        "id": "5v867ASkHDUw"
      },
      "source": [
        "b = 0 "
      ],
      "execution_count": null,
      "outputs": []
    },
    {
      "cell_type": "code",
      "metadata": {
        "colab": {
          "base_uri": "https://localhost:8080/"
        },
        "id": "hVnDnoqHFE6M",
        "outputId": "ff0ac3cd-bbae-407b-b0d3-caae5fc0ed12"
      },
      "source": [
        "# while문 사용하셔서 1~1000까지 3의 배수의 합을 구해보세요. 정답 : 166,833\n",
        "a=0\n",
        "while a<1000:\n",
        " a+=1\n",
        " if a%3==0:\n",
        "  b+=a\n",
        "print(b)\n"
      ],
      "execution_count": null,
      "outputs": [
        {
          "output_type": "stream",
          "text": [
            "834165\n"
          ],
          "name": "stdout"
        }
      ]
    },
    {
      "cell_type": "code",
      "metadata": {
        "colab": {
          "base_uri": "https://localhost:8080/"
        },
        "id": "vwpyMehOHHN4",
        "outputId": "250bdd3e-27fe-42e1-db3a-fecb20a6a476"
      },
      "source": [
        "a = [1,2,3,4,5]\n",
        "sum(a)"
      ],
      "execution_count": null,
      "outputs": [
        {
          "output_type": "execute_result",
          "data": {
            "text/plain": [
              "15"
            ]
          },
          "metadata": {
            "tags": []
          },
          "execution_count": 184
        }
      ]
    },
    {
      "cell_type": "code",
      "metadata": {
        "colab": {
          "base_uri": "https://localhost:8080/"
        },
        "id": "_yG08aD7Hj4-",
        "outputId": "907bcc39-6631-47f1-d22a-859c62cb2293"
      },
      "source": [
        "a = 0\n",
        "d = 0\n",
        "while a < 1000:\n",
        "  a += 1\n",
        "  if a % 3 == 0:\n",
        "    d += a\n",
        "d"
      ],
      "execution_count": null,
      "outputs": [
        {
          "output_type": "execute_result",
          "data": {
            "text/plain": [
              "166833"
            ]
          },
          "metadata": {
            "tags": []
          },
          "execution_count": 185
        }
      ]
    },
    {
      "cell_type": "code",
      "metadata": {
        "colab": {
          "base_uri": "https://localhost:8080/"
        },
        "id": "KJEitHAfH8Ze",
        "outputId": "8f37c960-321f-4d5f-d916-ad64f4f8a962"
      },
      "source": [
        "box = ['one', 'two', 'three']\n",
        "\n",
        "for i in box: # box 안에 있는 것을 순서대로 i 에 넣어라\n",
        "  print(i)"
      ],
      "execution_count": null,
      "outputs": [
        {
          "output_type": "stream",
          "text": [
            "one\n",
            "two\n",
            "three\n"
          ],
          "name": "stdout"
        }
      ]
    },
    {
      "cell_type": "code",
      "metadata": {
        "colab": {
          "base_uri": "https://localhost:8080/"
        },
        "id": "TdgyNMb4IW2F",
        "outputId": "15733297-3410-4ca4-e0d5-76a888103b14"
      },
      "source": [
        "students = [90, 25, 75, 45, 100]\n",
        "num = 0\n",
        "\n",
        "for i in students:\n",
        "  num += 1\n",
        "  if i > 60:\n",
        "    print('{}번 학생 합격 -- {}점'.format(num, i))"
      ],
      "execution_count": null,
      "outputs": [
        {
          "output_type": "stream",
          "text": [
            "1번 학생 합격 -- 90점\n",
            "3번 학생 합격 -- 75점\n",
            "5번 학생 합격 -- 100점\n"
          ],
          "name": "stdout"
        }
      ]
    },
    {
      "cell_type": "code",
      "metadata": {
        "colab": {
          "base_uri": "https://localhost:8080/"
        },
        "id": "rE6VhhiAIuRt",
        "outputId": "e9b21dc6-61db-403b-d64a-6c41bbc4350d"
      },
      "source": [
        "students = [90, 25, 75, 45, 100]\n",
        "num = 0\n",
        "\n",
        "for i in students:\n",
        "  num += 1\n",
        "  if i < 60:\n",
        "    continue\n",
        "  print('{}번 학생 합격 -- {}점'.format(num, i))"
      ],
      "execution_count": null,
      "outputs": [
        {
          "output_type": "stream",
          "text": [
            "1번 학생 합격 -- 90점\n",
            "3번 학생 합격 -- 75점\n",
            "5번 학생 합격 -- 100점\n"
          ],
          "name": "stdout"
        }
      ]
    },
    {
      "cell_type": "code",
      "metadata": {
        "colab": {
          "base_uri": "https://localhost:8080/"
        },
        "id": "7igypJbwJCkA",
        "outputId": "8ddf839d-68ad-4d89-bdbe-35d846238625"
      },
      "source": [
        "# 1~100\n",
        "\n",
        "a = 0\n",
        "for i in range(1, 101):\n",
        "  a += i\n",
        "a"
      ],
      "execution_count": null,
      "outputs": [
        {
          "output_type": "execute_result",
          "data": {
            "text/plain": [
              "5050"
            ]
          },
          "metadata": {
            "tags": []
          },
          "execution_count": 190
        }
      ]
    },
    {
      "cell_type": "code",
      "metadata": {
        "colab": {
          "base_uri": "https://localhost:8080/"
        },
        "id": "9rqpgm9JJVAv",
        "outputId": "6ae9a80c-72a9-4c25-e036-bc649cb33031"
      },
      "source": [
        "for i in range(2, 10):\n",
        "  for j in range(1, 10):\n",
        "    print('{}X{}={}'.format(i,j,i*j), end = '######')"
      ],
      "execution_count": null,
      "outputs": [
        {
          "output_type": "stream",
          "text": [
            "2X1=2######2X2=4######2X3=6######2X4=8######2X5=10######2X6=12######2X7=14######2X8=16######2X9=18######3X1=3######3X2=6######3X3=9######3X4=12######3X5=15######3X6=18######3X7=21######3X8=24######3X9=27######4X1=4######4X2=8######4X3=12######4X4=16######4X5=20######4X6=24######4X7=28######4X8=32######4X9=36######5X1=5######5X2=10######5X3=15######5X4=20######5X5=25######5X6=30######5X7=35######5X8=40######5X9=45######6X1=6######6X2=12######6X3=18######6X4=24######6X5=30######6X6=36######6X7=42######6X8=48######6X9=54######7X1=7######7X2=14######7X3=21######7X4=28######7X5=35######7X6=42######7X7=49######7X8=56######7X9=63######8X1=8######8X2=16######8X3=24######8X4=32######8X5=40######8X6=48######8X7=56######8X8=64######8X9=72######9X1=9######9X2=18######9X3=27######9X4=36######9X5=45######9X6=54######9X7=63######9X8=72######9X9=81######"
          ],
          "name": "stdout"
        }
      ]
    },
    {
      "cell_type": "code",
      "metadata": {
        "colab": {
          "base_uri": "https://localhost:8080/"
        },
        "id": "wi4PCNR4J0VW",
        "outputId": "aca4fe92-3184-431a-e11f-2fda302e6f06"
      },
      "source": [
        "for i in range(10, 0, -1):\n",
        "  print(i)"
      ],
      "execution_count": null,
      "outputs": [
        {
          "output_type": "stream",
          "text": [
            "10\n",
            "9\n",
            "8\n",
            "7\n",
            "6\n",
            "5\n",
            "4\n",
            "3\n",
            "2\n",
            "1\n"
          ],
          "name": "stdout"
        }
      ]
    },
    {
      "cell_type": "code",
      "metadata": {
        "colab": {
          "base_uri": "https://localhost:8080/"
        },
        "id": "7w0bkBvhLGQ0",
        "outputId": "6eef9695-36c9-4c8b-8f39-aaaabb93dd62"
      },
      "source": [
        "for i in range(1, 11, 3):\n",
        "  print(i)"
      ],
      "execution_count": null,
      "outputs": [
        {
          "output_type": "stream",
          "text": [
            "1\n",
            "4\n",
            "7\n",
            "10\n"
          ],
          "name": "stdout"
        }
      ]
    },
    {
      "cell_type": "code",
      "metadata": {
        "colab": {
          "base_uri": "https://localhost:8080/"
        },
        "id": "o9j7TovvLKBI",
        "outputId": "d9e26b92-b01a-44ef-c4d1-b66319218dd2"
      },
      "source": [
        "a = []\n",
        "\n",
        "# [1,2,3,4,5]\n",
        "\n",
        "for i in range(1, 6):\n",
        "  a.append(i)\n",
        "\n",
        "a"
      ],
      "execution_count": null,
      "outputs": [
        {
          "output_type": "execute_result",
          "data": {
            "text/plain": [
              "[1, 2, 3, 4, 5]"
            ]
          },
          "metadata": {
            "tags": []
          },
          "execution_count": 196
        }
      ]
    },
    {
      "cell_type": "code",
      "metadata": {
        "colab": {
          "base_uri": "https://localhost:8080/"
        },
        "id": "3gRU8OowMB9I",
        "outputId": "3799211f-966d-47bf-9a2d-bd7777bcaa7f"
      },
      "source": [
        "a = [i for i in range(1, 11) if i % 2 == 0]\n",
        "a"
      ],
      "execution_count": null,
      "outputs": [
        {
          "output_type": "execute_result",
          "data": {
            "text/plain": [
              "[2, 4, 6, 8, 10]"
            ]
          },
          "metadata": {
            "tags": []
          },
          "execution_count": 202
        }
      ]
    },
    {
      "cell_type": "code",
      "metadata": {
        "colab": {
          "base_uri": "https://localhost:8080/"
        },
        "id": "oxLsq_ToMI6G",
        "outputId": "4da21822-f11b-42a5-c9a3-ea8131fe4aea"
      },
      "source": [
        "for i in range(5, 0, -1):\n",
        "  print('*' * i)"
      ],
      "execution_count": null,
      "outputs": [
        {
          "output_type": "stream",
          "text": [
            "*****\n",
            "****\n",
            "***\n",
            "**\n",
            "*\n"
          ],
          "name": "stdout"
        }
      ]
    },
    {
      "cell_type": "code",
      "metadata": {
        "id": "j7yWm7CVNkVW"
      },
      "source": [
        "def add(a, b):\n",
        "  return a + b"
      ],
      "execution_count": null,
      "outputs": []
    },
    {
      "cell_type": "code",
      "metadata": {
        "colab": {
          "base_uri": "https://localhost:8080/"
        },
        "id": "vgUly8DhUtNf",
        "outputId": "035c3194-30f1-4d26-c2bf-94ad69ab9e96"
      },
      "source": [
        "z = add(3, 4)\n",
        "z"
      ],
      "execution_count": null,
      "outputs": [
        {
          "output_type": "execute_result",
          "data": {
            "text/plain": [
              "7"
            ]
          },
          "metadata": {
            "tags": []
          },
          "execution_count": 205
        }
      ]
    },
    {
      "cell_type": "code",
      "metadata": {
        "id": "6fYM1h7ZU6nU"
      },
      "source": [
        "def pt(a, b):\n",
        "  return int((a*a + b*b) ** (1/2))"
      ],
      "execution_count": null,
      "outputs": []
    },
    {
      "cell_type": "code",
      "metadata": {
        "colab": {
          "base_uri": "https://localhost:8080/"
        },
        "id": "15hOyZlZWH9j",
        "outputId": "c53dd1c3-46f5-4484-e011-2a02dd3d819d"
      },
      "source": [
        "pt(3,4)"
      ],
      "execution_count": null,
      "outputs": [
        {
          "output_type": "execute_result",
          "data": {
            "text/plain": [
              "5"
            ]
          },
          "metadata": {
            "tags": []
          },
          "execution_count": 209
        }
      ]
    },
    {
      "cell_type": "code",
      "metadata": {
        "id": "udEmmF3FWJAW"
      },
      "source": [
        "def say():\n",
        "  return 'hello'"
      ],
      "execution_count": null,
      "outputs": []
    },
    {
      "cell_type": "code",
      "metadata": {
        "colab": {
          "base_uri": "https://localhost:8080/",
          "height": 34
        },
        "id": "69wYUqTOWbBC",
        "outputId": "89e51691-4061-4d6c-aefc-0ac12ba81fed"
      },
      "source": [
        "a = say()\n",
        "a"
      ],
      "execution_count": null,
      "outputs": [
        {
          "output_type": "execute_result",
          "data": {
            "application/vnd.google.colaboratory.intrinsic+json": {
              "type": "string"
            },
            "text/plain": [
              "'hello'"
            ]
          },
          "metadata": {
            "tags": []
          },
          "execution_count": 211
        }
      ]
    },
    {
      "cell_type": "code",
      "metadata": {
        "id": "i1sdL7LwWc0o"
      },
      "source": [
        "def add(a, b):\n",
        "  print(a + b)"
      ],
      "execution_count": null,
      "outputs": []
    },
    {
      "cell_type": "code",
      "metadata": {
        "colab": {
          "base_uri": "https://localhost:8080/"
        },
        "id": "uWBiuOKxWpEr",
        "outputId": "deca5f1f-0d67-484e-a2bd-693d0f57e075"
      },
      "source": [
        "z = add(3, 4)"
      ],
      "execution_count": null,
      "outputs": [
        {
          "output_type": "stream",
          "text": [
            "7\n"
          ],
          "name": "stdout"
        }
      ]
    },
    {
      "cell_type": "code",
      "metadata": {
        "colab": {
          "base_uri": "https://localhost:8080/"
        },
        "id": "qkU7IMDrWuC6",
        "outputId": "8b7a9729-ca86-4464-8cf2-aad0507ca907"
      },
      "source": [
        "print(z)"
      ],
      "execution_count": null,
      "outputs": [
        {
          "output_type": "stream",
          "text": [
            "None\n"
          ],
          "name": "stdout"
        }
      ]
    },
    {
      "cell_type": "code",
      "metadata": {
        "id": "O7MSosNzWwi2"
      },
      "source": [
        "def intro(name, age, sex=True):\n",
        "  print('나의 이름은 {}입니다.'.format(name))\n",
        "  print('나의 나이는 {}입니다.'.format(age))\n",
        "  if sex == True:\n",
        "    print('나는 남자입니다.')\n",
        "  else:\n",
        "    print('나는 여자입니다.')"
      ],
      "execution_count": null,
      "outputs": []
    },
    {
      "cell_type": "code",
      "metadata": {
        "colab": {
          "base_uri": "https://localhost:8080/"
        },
        "id": "oAaSrA9KX4rb",
        "outputId": "0f4da377-636c-40dd-9387-98d5781a2b44"
      },
      "source": [
        "intro('곽경일', 30)"
      ],
      "execution_count": null,
      "outputs": [
        {
          "output_type": "stream",
          "text": [
            "나의 이름은 곽경일입니다.\n",
            "나의 나이는 30입니다.\n",
            "나는 남자입니다.\n"
          ],
          "name": "stdout"
        }
      ]
    },
    {
      "cell_type": "code",
      "metadata": {
        "colab": {
          "base_uri": "https://localhost:8080/"
        },
        "id": "O4mu9Pj4YDuP",
        "outputId": "9a2a010b-ac7c-458c-e1c3-7552fb5cbda8"
      },
      "source": [
        "intro('장원영', 18, 5)"
      ],
      "execution_count": null,
      "outputs": [
        {
          "output_type": "stream",
          "text": [
            "나의 이름은 장원영입니다.\n",
            "나의 나이는 18입니다.\n",
            "나는 여자입니다.\n"
          ],
          "name": "stdout"
        }
      ]
    },
    {
      "cell_type": "code",
      "metadata": {
        "colab": {
          "base_uri": "https://localhost:8080/"
        },
        "id": "Oxorsa_sYNi1",
        "outputId": "1711d743-4ffa-4d24-cbb3-e1e46f944266"
      },
      "source": [
        "def test():\n",
        "  global a\n",
        "  a = 5\n",
        "\n",
        "a = 0\n",
        "test()\n",
        "print(a)"
      ],
      "execution_count": null,
      "outputs": [
        {
          "output_type": "stream",
          "text": [
            "5\n"
          ],
          "name": "stdout"
        }
      ]
    },
    {
      "cell_type": "code",
      "metadata": {
        "id": "DhF79AhnYq7R"
      },
      "source": [
        "add = lambda a,b:a+b"
      ],
      "execution_count": null,
      "outputs": []
    },
    {
      "cell_type": "code",
      "metadata": {
        "colab": {
          "base_uri": "https://localhost:8080/"
        },
        "id": "iXDkhJpQaASf",
        "outputId": "638fa327-3596-451d-869b-6f84a209f3bb"
      },
      "source": [
        "add(3,4)"
      ],
      "execution_count": null,
      "outputs": [
        {
          "output_type": "execute_result",
          "data": {
            "text/plain": [
              "7"
            ]
          },
          "metadata": {
            "tags": []
          },
          "execution_count": 222
        }
      ]
    },
    {
      "cell_type": "code",
      "metadata": {
        "colab": {
          "base_uri": "https://localhost:8080/"
        },
        "id": "xxP0H7W2aQNl",
        "outputId": "a8717e96-1a71-4c48-9917-5796b45a02cc"
      },
      "source": [
        "box = [[1,2], [4,3], [1,1], [0, -4], [5, 9], [3, 1]]\n",
        "box.sort(key = lambda i:i[1])\n",
        "box"
      ],
      "execution_count": null,
      "outputs": [
        {
          "output_type": "execute_result",
          "data": {
            "text/plain": [
              "[[0, -4], [1, 1], [3, 1], [1, 2], [4, 3], [5, 9]]"
            ]
          },
          "metadata": {
            "tags": []
          },
          "execution_count": 225
        }
      ]
    },
    {
      "cell_type": "code",
      "metadata": {
        "id": "zk9LXH3RasVS"
      },
      "source": [
        "def fac(n):\n",
        "  a = 1\n",
        "  for i in range(1, n+1):\n",
        "    a *= i\n",
        "  return a"
      ],
      "execution_count": null,
      "outputs": []
    },
    {
      "cell_type": "code",
      "metadata": {
        "colab": {
          "base_uri": "https://localhost:8080/"
        },
        "id": "dn7TSk25dqHt",
        "outputId": "87762140-6d18-47dc-cb7b-60b57ad31f41"
      },
      "source": [
        "fac(5)"
      ],
      "execution_count": null,
      "outputs": [
        {
          "output_type": "execute_result",
          "data": {
            "text/plain": [
              "120"
            ]
          },
          "metadata": {
            "tags": []
          },
          "execution_count": 227
        }
      ]
    },
    {
      "cell_type": "code",
      "metadata": {
        "id": "F1hs5m-VdqvN"
      },
      "source": [
        "def fac(n):\n",
        "\n",
        "  if n == 1:\n",
        "    return 1\n",
        "  else:\n",
        "    return n * fac(n-1)"
      ],
      "execution_count": null,
      "outputs": []
    },
    {
      "cell_type": "code",
      "metadata": {
        "id": "CTr7mDdveBgX"
      },
      "source": [
        "# 피보나치 수열\n",
        "\n",
        "# 1 1 2 3 5 8 13 21 34 ...\n",
        "\n",
        "count = 0\n",
        "\n",
        "dic = {1:1, 2:1}\n",
        "\n",
        "def pb(n):\n",
        "  \n",
        "  global count\n",
        "  count += 1\n",
        "\n",
        "  if n in dic:\n",
        "    return dic[n]\n",
        "  else:\n",
        "    dic[n] = pb(n-1) + pb(n-2)\n",
        "    return dic[n]"
      ],
      "execution_count": null,
      "outputs": []
    },
    {
      "cell_type": "code",
      "metadata": {
        "colab": {
          "base_uri": "https://localhost:8080/"
        },
        "id": "ZyaeVEyUgt8B",
        "outputId": "b4073df9-7d2e-4e9d-f16e-0b4487b6c90a"
      },
      "source": [
        "pb(35)\n",
        "count"
      ],
      "execution_count": null,
      "outputs": [
        {
          "output_type": "execute_result",
          "data": {
            "text/plain": [
              "67"
            ]
          },
          "metadata": {
            "tags": []
          },
          "execution_count": 237
        }
      ]
    },
    {
      "cell_type": "code",
      "metadata": {
        "colab": {
          "base_uri": "https://localhost:8080/"
        },
        "id": "ajv2o822guoS",
        "outputId": "a0753610-89e4-4d01-9350-e2ad1e88b678"
      },
      "source": [
        "dic"
      ],
      "execution_count": null,
      "outputs": [
        {
          "output_type": "execute_result",
          "data": {
            "text/plain": [
              "{1: 1,\n",
              " 2: 1,\n",
              " 3: 2,\n",
              " 4: 3,\n",
              " 5: 5,\n",
              " 6: 8,\n",
              " 7: 13,\n",
              " 8: 21,\n",
              " 9: 34,\n",
              " 10: 55,\n",
              " 11: 89,\n",
              " 12: 144,\n",
              " 13: 233,\n",
              " 14: 377,\n",
              " 15: 610,\n",
              " 16: 987,\n",
              " 17: 1597,\n",
              " 18: 2584,\n",
              " 19: 4181,\n",
              " 20: 6765,\n",
              " 21: 10946,\n",
              " 22: 17711,\n",
              " 23: 28657,\n",
              " 24: 46368,\n",
              " 25: 75025,\n",
              " 26: 121393,\n",
              " 27: 196418,\n",
              " 28: 317811,\n",
              " 29: 514229,\n",
              " 30: 832040,\n",
              " 31: 1346269,\n",
              " 32: 2178309,\n",
              " 33: 3524578,\n",
              " 34: 5702887,\n",
              " 35: 9227465}"
            ]
          },
          "metadata": {
            "tags": []
          },
          "execution_count": 238
        }
      ]
    },
    {
      "cell_type": "code",
      "metadata": {
        "colab": {
          "base_uri": "https://localhost:8080/"
        },
        "id": "a8vuyzd8itZd",
        "outputId": "05278f34-a410-4252-858f-cca2a64093d4"
      },
      "source": [
        " a = int(input('값을 입력해주세요 : ')) # 무조건 문자열\n",
        " a"
      ],
      "execution_count": null,
      "outputs": [
        {
          "output_type": "stream",
          "text": [
            "값을 입력해주세요 : 5\n"
          ],
          "name": "stdout"
        },
        {
          "output_type": "execute_result",
          "data": {
            "text/plain": [
              "5"
            ]
          },
          "metadata": {
            "tags": []
          },
          "execution_count": 242
        }
      ]
    },
    {
      "cell_type": "code",
      "metadata": {
        "id": "qSqAwZi1pmfj"
      },
      "source": [
        "f = open('test.txt', 'w')\n",
        "\n",
        "for i in range(1, 11):\n",
        "  f.write('{}번째 줄입니다.\\n'.format(i))\n",
        "\n",
        "f.close()"
      ],
      "execution_count": null,
      "outputs": []
    },
    {
      "cell_type": "code",
      "metadata": {
        "id": "gnwkcPgUquYF"
      },
      "source": [
        "f = open('test.txt', 'a') # attach\n",
        "\n",
        "for i in range(11, 21):\n",
        "  f.write('{}번째 줄입니다.\\n'.format(i))\n",
        "\n",
        "f.close()"
      ],
      "execution_count": null,
      "outputs": []
    },
    {
      "cell_type": "code",
      "metadata": {
        "colab": {
          "base_uri": "https://localhost:8080/",
          "height": 69
        },
        "id": "c6T-rC65rOug",
        "outputId": "237d41bd-21e6-4d6b-b4a7-3ac4227c42d6"
      },
      "source": [
        "f = open('test.txt', 'r')\n",
        "\n",
        "data = f.read()\n",
        "\n",
        "data"
      ],
      "execution_count": null,
      "outputs": [
        {
          "output_type": "execute_result",
          "data": {
            "application/vnd.google.colaboratory.intrinsic+json": {
              "type": "string"
            },
            "text/plain": [
              "'1번째 줄입니다.\\n2번째 줄입니다.\\n3번째 줄입니다.\\n4번째 줄입니다.\\n5번째 줄입니다.\\n6번째 줄입니다.\\n7번째 줄입니다.\\n8번째 줄입니다.\\n9번째 줄입니다.\\n10번째 줄입니다.\\n11번째 줄입니다.\\n12번째 줄입니다.\\n13번째 줄입니다.\\n14번째 줄입니다.\\n15번째 줄입니다.\\n16번째 줄입니다.\\n17번째 줄입니다.\\n18번째 줄입니다.\\n19번째 줄입니다.\\n20번째 줄입니다.\\n'"
            ]
          },
          "metadata": {
            "tags": []
          },
          "execution_count": 246
        }
      ]
    },
    {
      "cell_type": "code",
      "metadata": {
        "colab": {
          "base_uri": "https://localhost:8080/"
        },
        "id": "YfjLRMWrrnHH",
        "outputId": "5b1a6a39-0bb4-4140-d850-9fc27e59dc53"
      },
      "source": [
        "f = open('test.txt', 'r')\n",
        "\n",
        "data = f.readlines()\n",
        "\n",
        "data"
      ],
      "execution_count": null,
      "outputs": [
        {
          "output_type": "execute_result",
          "data": {
            "text/plain": [
              "['1번째 줄입니다.\\n',\n",
              " '2번째 줄입니다.\\n',\n",
              " '3번째 줄입니다.\\n',\n",
              " '4번째 줄입니다.\\n',\n",
              " '5번째 줄입니다.\\n',\n",
              " '6번째 줄입니다.\\n',\n",
              " '7번째 줄입니다.\\n',\n",
              " '8번째 줄입니다.\\n',\n",
              " '9번째 줄입니다.\\n',\n",
              " '10번째 줄입니다.\\n',\n",
              " '11번째 줄입니다.\\n',\n",
              " '12번째 줄입니다.\\n',\n",
              " '13번째 줄입니다.\\n',\n",
              " '14번째 줄입니다.\\n',\n",
              " '15번째 줄입니다.\\n',\n",
              " '16번째 줄입니다.\\n',\n",
              " '17번째 줄입니다.\\n',\n",
              " '18번째 줄입니다.\\n',\n",
              " '19번째 줄입니다.\\n',\n",
              " '20번째 줄입니다.\\n']"
            ]
          },
          "metadata": {
            "tags": []
          },
          "execution_count": 247
        }
      ]
    },
    {
      "cell_type": "code",
      "metadata": {
        "id": "ZnAEcuFqrz5k"
      },
      "source": [
        "class Bank:\n",
        "\n",
        "  def __init__(self, a): # 권한을 줄 때\n",
        "    self.money = a\n",
        "\n",
        "  def deposit(self, a):\n",
        "    self.money += a"
      ],
      "execution_count": null,
      "outputs": []
    },
    {
      "cell_type": "code",
      "metadata": {
        "id": "3ukb7R9ot_pU"
      },
      "source": [
        "person1 = Bank(30000)"
      ],
      "execution_count": null,
      "outputs": []
    },
    {
      "cell_type": "code",
      "metadata": {
        "colab": {
          "base_uri": "https://localhost:8080/"
        },
        "id": "9CsoFSaKwVBT",
        "outputId": "15869e59-c6ea-4905-e7a9-1d06858b4708"
      },
      "source": [
        "person1.money"
      ],
      "execution_count": null,
      "outputs": [
        {
          "output_type": "execute_result",
          "data": {
            "text/plain": [
              "30000"
            ]
          },
          "metadata": {
            "tags": []
          },
          "execution_count": 256
        }
      ]
    },
    {
      "cell_type": "code",
      "metadata": {
        "colab": {
          "base_uri": "https://localhost:8080/"
        },
        "id": "kmwmU7oPwew4",
        "outputId": "8a80f2a6-06eb-4c94-e618-4e49735594b1"
      },
      "source": [
        "person1.deposit(50000)\n",
        "person1.money"
      ],
      "execution_count": null,
      "outputs": [
        {
          "output_type": "execute_result",
          "data": {
            "text/plain": [
              "80000"
            ]
          },
          "metadata": {
            "tags": []
          },
          "execution_count": 257
        }
      ]
    },
    {
      "cell_type": "code",
      "metadata": {
        "id": "TOGHlzk3wvcB"
      },
      "source": [
        "class Bank2(Bank):\n",
        "  \n",
        "  def __init__(self, a):\n",
        "    "
      ],
      "execution_count": null,
      "outputs": []
    },
    {
      "cell_type": "code",
      "metadata": {
        "id": "lx8Wip34xtYV"
      },
      "source": [
        "person3 = Bank2(100000)"
      ],
      "execution_count": null,
      "outputs": []
    },
    {
      "cell_type": "code",
      "metadata": {
        "colab": {
          "base_uri": "https://localhost:8080/"
        },
        "id": "EFRf5pikx8ju",
        "outputId": "c00480ec-a83b-4161-9c3e-08cbb19fef30"
      },
      "source": [
        "person3.money"
      ],
      "execution_count": null,
      "outputs": [
        {
          "output_type": "execute_result",
          "data": {
            "text/plain": [
              "100000"
            ]
          },
          "metadata": {
            "tags": []
          },
          "execution_count": 262
        }
      ]
    },
    {
      "cell_type": "code",
      "metadata": {
        "colab": {
          "base_uri": "https://localhost:8080/"
        },
        "id": "c_7c4Bqhx_XO",
        "outputId": "91fc4fe0-3098-411c-80c2-63dac76999ee"
      },
      "source": [
        "# 예외처리 : 에러를 무시하는 기술\n",
        "\n",
        "try:\n",
        "  print('hello')\n",
        "except:\n",
        "  print('에러가 났지만 무시한다.')\n",
        "\n",
        "print('bye')"
      ],
      "execution_count": null,
      "outputs": [
        {
          "output_type": "stream",
          "text": [
            "hello\n",
            "bye\n"
          ],
          "name": "stdout"
        }
      ]
    },
    {
      "cell_type": "code",
      "metadata": {
        "colab": {
          "base_uri": "https://localhost:8080/",
          "height": 168
        },
        "id": "oEA2mMDFzRfT",
        "outputId": "3be89f88-9606-4ddd-fa06-23ef6646c3e8"
      },
      "source": [
        "raise FileNotFoundError"
      ],
      "execution_count": null,
      "outputs": [
        {
          "output_type": "error",
          "ename": "FileNotFoundError",
          "evalue": "ignored",
          "traceback": [
            "\u001b[0;31m---------------------------------------------------------------------------\u001b[0m",
            "\u001b[0;31mFileNotFoundError\u001b[0m                         Traceback (most recent call last)",
            "\u001b[0;32m<ipython-input-267-11ee8df7e933>\u001b[0m in \u001b[0;36m<module>\u001b[0;34m()\u001b[0m\n\u001b[0;32m----> 1\u001b[0;31m \u001b[0;32mraise\u001b[0m \u001b[0mFileNotFoundError\u001b[0m\u001b[0;34m\u001b[0m\u001b[0;34m\u001b[0m\u001b[0m\n\u001b[0m",
            "\u001b[0;31mFileNotFoundError\u001b[0m: "
          ]
        }
      ]
    },
    {
      "cell_type": "code",
      "metadata": {
        "id": "YKAeFO_Jz7Rn"
      },
      "source": [
        "try:\n",
        "  for i in range(1, 10):\n",
        "    for j in range(1, 10):\n",
        "      for k in range(1, 10):\n",
        "        for q in range(1, 10):\n",
        "          raise FileNotFoundError\n",
        "except:\n",
        "  pass"
      ],
      "execution_count": null,
      "outputs": []
    },
    {
      "cell_type": "code",
      "metadata": {
        "colab": {
          "base_uri": "https://localhost:8080/"
        },
        "id": "3vfGHYHz0WOe",
        "outputId": "e6d9f765-1098-4084-aa73-9b8c6cf10f3d"
      },
      "source": [
        "abs(-5)"
      ],
      "execution_count": null,
      "outputs": [
        {
          "output_type": "execute_result",
          "data": {
            "text/plain": [
              "5"
            ]
          },
          "metadata": {
            "tags": []
          },
          "execution_count": 268
        }
      ]
    },
    {
      "cell_type": "code",
      "metadata": {
        "colab": {
          "base_uri": "https://localhost:8080/"
        },
        "id": "knobx1B70muw",
        "outputId": "b19bf556-41b9-469e-8590-c11c443cc3b8"
      },
      "source": [
        "all([1,0,3])"
      ],
      "execution_count": null,
      "outputs": [
        {
          "output_type": "execute_result",
          "data": {
            "text/plain": [
              "False"
            ]
          },
          "metadata": {
            "tags": []
          },
          "execution_count": 270
        }
      ]
    },
    {
      "cell_type": "code",
      "metadata": {
        "colab": {
          "base_uri": "https://localhost:8080/"
        },
        "id": "YYfi_9y50rnG",
        "outputId": "572b632a-4cf8-4da8-94c5-dd7a595cad62"
      },
      "source": [
        "any([0,0,0,0,0,0,0,0,1])"
      ],
      "execution_count": null,
      "outputs": [
        {
          "output_type": "execute_result",
          "data": {
            "text/plain": [
              "True"
            ]
          },
          "metadata": {
            "tags": []
          },
          "execution_count": 271
        }
      ]
    },
    {
      "cell_type": "code",
      "metadata": {
        "colab": {
          "base_uri": "https://localhost:8080/",
          "height": 34
        },
        "id": "TzuFFLcF0yta",
        "outputId": "d702683b-df9b-4416-c6a0-592ff9ebeb4a"
      },
      "source": [
        "chr(97)"
      ],
      "execution_count": null,
      "outputs": [
        {
          "output_type": "execute_result",
          "data": {
            "application/vnd.google.colaboratory.intrinsic+json": {
              "type": "string"
            },
            "text/plain": [
              "'a'"
            ]
          },
          "metadata": {
            "tags": []
          },
          "execution_count": 272
        }
      ]
    },
    {
      "cell_type": "code",
      "metadata": {
        "colab": {
          "base_uri": "https://localhost:8080/"
        },
        "id": "5NAwVwEP04Te",
        "outputId": "eb6c6ae3-6ed9-4ded-e309-3e6a8daf25e1"
      },
      "source": [
        "divmod(7, 3)"
      ],
      "execution_count": null,
      "outputs": [
        {
          "output_type": "execute_result",
          "data": {
            "text/plain": [
              "(2, 1)"
            ]
          },
          "metadata": {
            "tags": []
          },
          "execution_count": 273
        }
      ]
    },
    {
      "cell_type": "code",
      "metadata": {
        "colab": {
          "base_uri": "https://localhost:8080/"
        },
        "id": "JAIJBGYw1CSA",
        "outputId": "0d2630e4-fb40-4738-a575-90614c11a90c"
      },
      "source": [
        "box = ['one', 'two', 'three']\n",
        "\n",
        "for n,i in enumerate(box):\n",
        "  print(n, i)"
      ],
      "execution_count": null,
      "outputs": [
        {
          "output_type": "stream",
          "text": [
            "0 one\n",
            "1 two\n",
            "2 three\n"
          ],
          "name": "stdout"
        }
      ]
    },
    {
      "cell_type": "code",
      "metadata": {
        "colab": {
          "base_uri": "https://localhost:8080/"
        },
        "id": "aOIuYHQI1PKj",
        "outputId": "6eccfc8f-bb92-4d87-81f3-782199833a1e"
      },
      "source": [
        "box = [1, -3, 2, 0, -5, 6]\n",
        "\n",
        "def positive(x):\n",
        "  return x > 0\n",
        "\n",
        "list(filter(positive, box))"
      ],
      "execution_count": null,
      "outputs": [
        {
          "output_type": "execute_result",
          "data": {
            "text/plain": [
              "[1, 2, 6]"
            ]
          },
          "metadata": {
            "tags": []
          },
          "execution_count": 276
        }
      ]
    },
    {
      "cell_type": "code",
      "metadata": {
        "colab": {
          "base_uri": "https://localhost:8080/"
        },
        "id": "0hsKOOMC2Bcd",
        "outputId": "bf9f60f1-1cbb-423b-bef4-c17058d874e8"
      },
      "source": [
        "box = [1, -3, 2, 0, -5, 6]\n",
        "list(filter(lambda i:i>0 , box))"
      ],
      "execution_count": null,
      "outputs": [
        {
          "output_type": "execute_result",
          "data": {
            "text/plain": [
              "[1, 2, 6]"
            ]
          },
          "metadata": {
            "tags": []
          },
          "execution_count": 278
        }
      ]
    },
    {
      "cell_type": "code",
      "metadata": {
        "colab": {
          "base_uri": "https://localhost:8080/"
        },
        "id": "ETu1zrAg2VMv",
        "outputId": "7d093cdb-7016-4013-8d75-8b82a14006e6"
      },
      "source": [
        "int('3')"
      ],
      "execution_count": null,
      "outputs": [
        {
          "output_type": "execute_result",
          "data": {
            "text/plain": [
              "3"
            ]
          },
          "metadata": {
            "tags": []
          },
          "execution_count": 279
        }
      ]
    },
    {
      "cell_type": "code",
      "metadata": {
        "colab": {
          "base_uri": "https://localhost:8080/"
        },
        "id": "4OiYIi8Z2mks",
        "outputId": "3769605c-d6fd-4b0d-b69a-5ba86474b31f"
      },
      "source": [
        "int(3.14)"
      ],
      "execution_count": null,
      "outputs": [
        {
          "output_type": "execute_result",
          "data": {
            "text/plain": [
              "3"
            ]
          },
          "metadata": {
            "tags": []
          },
          "execution_count": 280
        }
      ]
    },
    {
      "cell_type": "code",
      "metadata": {
        "colab": {
          "base_uri": "https://localhost:8080/"
        },
        "id": "mwXiRk8y2nu7",
        "outputId": "d2755b99-03ab-41ed-c7e3-b0f2ea5e7563"
      },
      "source": [
        "int('11', 2)"
      ],
      "execution_count": null,
      "outputs": [
        {
          "output_type": "execute_result",
          "data": {
            "text/plain": [
              "3"
            ]
          },
          "metadata": {
            "tags": []
          },
          "execution_count": 281
        }
      ]
    },
    {
      "cell_type": "code",
      "metadata": {
        "colab": {
          "base_uri": "https://localhost:8080/"
        },
        "id": "IsDhD52j2uLM",
        "outputId": "c8a04098-b293-4179-cc8d-eca742fbd6dd"
      },
      "source": [
        "len('python')"
      ],
      "execution_count": null,
      "outputs": [
        {
          "output_type": "execute_result",
          "data": {
            "text/plain": [
              "6"
            ]
          },
          "metadata": {
            "tags": []
          },
          "execution_count": 282
        }
      ]
    },
    {
      "cell_type": "code",
      "metadata": {
        "colab": {
          "base_uri": "https://localhost:8080/"
        },
        "id": "EGEkuOeh20Ui",
        "outputId": "cfe0ac19-9b2b-421c-d92c-bf90c51a7a6e"
      },
      "source": [
        "len([1,2,3,4])"
      ],
      "execution_count": null,
      "outputs": [
        {
          "output_type": "execute_result",
          "data": {
            "text/plain": [
              "4"
            ]
          },
          "metadata": {
            "tags": []
          },
          "execution_count": 283
        }
      ]
    },
    {
      "cell_type": "code",
      "metadata": {
        "colab": {
          "base_uri": "https://localhost:8080/"
        },
        "id": "3XqEgs2k21y7",
        "outputId": "2a3510c8-8eba-4800-bdc0-a66ff08bc9df"
      },
      "source": [
        "list('python')"
      ],
      "execution_count": null,
      "outputs": [
        {
          "output_type": "execute_result",
          "data": {
            "text/plain": [
              "['p', 'y', 't', 'h', 'o', 'n']"
            ]
          },
          "metadata": {
            "tags": []
          },
          "execution_count": 284
        }
      ]
    },
    {
      "cell_type": "code",
      "metadata": {
        "colab": {
          "base_uri": "https://localhost:8080/"
        },
        "id": "IK8Af6Ws25cv",
        "outputId": "760408a5-0100-465f-c33d-9911183860fe"
      },
      "source": [
        "list(map(lambda i:i*2, [1,2,3,4]))"
      ],
      "execution_count": null,
      "outputs": [
        {
          "output_type": "execute_result",
          "data": {
            "text/plain": [
              "[2, 4, 6, 8]"
            ]
          },
          "metadata": {
            "tags": []
          },
          "execution_count": 285
        }
      ]
    },
    {
      "cell_type": "code",
      "metadata": {
        "colab": {
          "base_uri": "https://localhost:8080/"
        },
        "id": "29eyamR-3H-l",
        "outputId": "42cb108e-fe73-423a-d71a-25b167262f88"
      },
      "source": [
        "max([1,2,3,4,5])"
      ],
      "execution_count": null,
      "outputs": [
        {
          "output_type": "execute_result",
          "data": {
            "text/plain": [
              "5"
            ]
          },
          "metadata": {
            "tags": []
          },
          "execution_count": 286
        }
      ]
    },
    {
      "cell_type": "code",
      "metadata": {
        "colab": {
          "base_uri": "https://localhost:8080/"
        },
        "id": "EsWog5Bl3WWd",
        "outputId": "a78273da-aee7-48ce-d87a-1f526a6ed09f"
      },
      "source": [
        "min([1,2,3,4,5])"
      ],
      "execution_count": null,
      "outputs": [
        {
          "output_type": "execute_result",
          "data": {
            "text/plain": [
              "1"
            ]
          },
          "metadata": {
            "tags": []
          },
          "execution_count": 287
        }
      ]
    },
    {
      "cell_type": "code",
      "metadata": {
        "colab": {
          "base_uri": "https://localhost:8080/"
        },
        "id": "Rf9YbbIE3X8A",
        "outputId": "d23b8dd8-c856-4a8d-c513-07938755f860"
      },
      "source": [
        "list(range(1, 11))"
      ],
      "execution_count": null,
      "outputs": [
        {
          "output_type": "execute_result",
          "data": {
            "text/plain": [
              "[1, 2, 3, 4, 5, 6, 7, 8, 9, 10]"
            ]
          },
          "metadata": {
            "tags": []
          },
          "execution_count": 289
        }
      ]
    },
    {
      "cell_type": "code",
      "metadata": {
        "colab": {
          "base_uri": "https://localhost:8080/"
        },
        "id": "9eWbFk2r3jaf",
        "outputId": "2a4ed748-f5fd-4813-f420-5566bb9cd1c0"
      },
      "source": [
        "round(4.6)"
      ],
      "execution_count": null,
      "outputs": [
        {
          "output_type": "execute_result",
          "data": {
            "text/plain": [
              "5"
            ]
          },
          "metadata": {
            "tags": []
          },
          "execution_count": 290
        }
      ]
    },
    {
      "cell_type": "code",
      "metadata": {
        "colab": {
          "base_uri": "https://localhost:8080/"
        },
        "id": "iQiNFjC53sXb",
        "outputId": "1b4cbfd7-9956-418e-99bf-e501132e1f46"
      },
      "source": [
        "round(4.2)"
      ],
      "execution_count": null,
      "outputs": [
        {
          "output_type": "execute_result",
          "data": {
            "text/plain": [
              "4"
            ]
          },
          "metadata": {
            "tags": []
          },
          "execution_count": 291
        }
      ]
    },
    {
      "cell_type": "code",
      "metadata": {
        "colab": {
          "base_uri": "https://localhost:8080/"
        },
        "id": "VOo5PMUV3tkj",
        "outputId": "49aa99d8-175a-4d48-80b5-a1eaf8391b68"
      },
      "source": [
        "range(10)"
      ],
      "execution_count": null,
      "outputs": [
        {
          "output_type": "execute_result",
          "data": {
            "text/plain": [
              "range(0, 10)"
            ]
          },
          "metadata": {
            "tags": []
          },
          "execution_count": 292
        }
      ]
    },
    {
      "cell_type": "code",
      "metadata": {
        "colab": {
          "base_uri": "https://localhost:8080/"
        },
        "id": "WE-HPh1m39BM",
        "outputId": "0f4de2e0-4e3a-4ebc-f33f-28e787a4149b"
      },
      "source": [
        "sorted([1,4,3,2])"
      ],
      "execution_count": null,
      "outputs": [
        {
          "output_type": "execute_result",
          "data": {
            "text/plain": [
              "[1, 2, 3, 4]"
            ]
          },
          "metadata": {
            "tags": []
          },
          "execution_count": 294
        }
      ]
    },
    {
      "cell_type": "code",
      "metadata": {
        "colab": {
          "base_uri": "https://localhost:8080/",
          "height": 34
        },
        "id": "SYUeUUWo4BnF",
        "outputId": "18443243-a56c-4e7b-aa29-209576f63da8"
      },
      "source": [
        "str(3)"
      ],
      "execution_count": null,
      "outputs": [
        {
          "output_type": "execute_result",
          "data": {
            "application/vnd.google.colaboratory.intrinsic+json": {
              "type": "string"
            },
            "text/plain": [
              "'3'"
            ]
          },
          "metadata": {
            "tags": []
          },
          "execution_count": 295
        }
      ]
    },
    {
      "cell_type": "code",
      "metadata": {
        "colab": {
          "base_uri": "https://localhost:8080/"
        },
        "id": "4N7Qf7xt4I0F",
        "outputId": "ca1da5ff-ceda-488c-f941-aab395f25488"
      },
      "source": [
        "a = [1,4,3,2]\n",
        "\n",
        "a = sorted(a)"
      ],
      "execution_count": null,
      "outputs": [
        {
          "output_type": "execute_result",
          "data": {
            "text/plain": [
              "[1, 2, 3, 4]"
            ]
          },
          "metadata": {
            "tags": []
          },
          "execution_count": 296
        }
      ]
    },
    {
      "cell_type": "code",
      "metadata": {
        "colab": {
          "base_uri": "https://localhost:8080/"
        },
        "id": "tZ5dSHB_4STH",
        "outputId": "0a13a462-eefb-4a45-fbd3-17cc54578904"
      },
      "source": [
        "a"
      ],
      "execution_count": null,
      "outputs": [
        {
          "output_type": "execute_result",
          "data": {
            "text/plain": [
              "[1, 4, 3, 2]"
            ]
          },
          "metadata": {
            "tags": []
          },
          "execution_count": 297
        }
      ]
    },
    {
      "cell_type": "code",
      "metadata": {
        "colab": {
          "base_uri": "https://localhost:8080/"
        },
        "id": "32wFN6jl4UBr",
        "outputId": "9b8aed15-f99f-497f-8390-cac14e6cc18f"
      },
      "source": [
        "sum([1,2,3,4,5])\n"
      ],
      "execution_count": null,
      "outputs": [
        {
          "output_type": "execute_result",
          "data": {
            "text/plain": [
              "15"
            ]
          },
          "metadata": {
            "tags": []
          },
          "execution_count": 298
        }
      ]
    },
    {
      "cell_type": "code",
      "metadata": {
        "colab": {
          "base_uri": "https://localhost:8080/"
        },
        "id": "PD8B85d04jhP",
        "outputId": "18546ac1-002d-4099-a2f9-d69754b06612"
      },
      "source": [
        "a = [1,2,3]\n",
        "b = [5,6,7,8]\n",
        "\n",
        "for i,j in zip(a,b):\n",
        "  print(i,j)"
      ],
      "execution_count": null,
      "outputs": [
        {
          "output_type": "stream",
          "text": [
            "1 5\n",
            "2 6\n",
            "3 7\n"
          ],
          "name": "stdout"
        }
      ]
    },
    {
      "cell_type": "code",
      "metadata": {
        "colab": {
          "base_uri": "https://localhost:8080/"
        },
        "id": "uf9rY07s4r5p",
        "outputId": "4680074b-dc29-44b0-88c4-a59077d31af5"
      },
      "source": [
        "# 라이브러리\n",
        "\n",
        "# pandas, numpy, tensorflow\n",
        "\n",
        "import time\n",
        "time.time() # 1970년 1월 1일 오전 0시"
      ],
      "execution_count": null,
      "outputs": [
        {
          "output_type": "execute_result",
          "data": {
            "text/plain": [
              "1624267826.0959187"
            ]
          },
          "metadata": {
            "tags": []
          },
          "execution_count": 307
        }
      ]
    },
    {
      "cell_type": "code",
      "metadata": {
        "colab": {
          "base_uri": "https://localhost:8080/"
        },
        "id": "7SZC57SE5v22",
        "outputId": "0b7f115b-7ed1-44c3-abd7-c3be96b4772a"
      },
      "source": [
        "time.localtime(time.time())"
      ],
      "execution_count": null,
      "outputs": [
        {
          "output_type": "execute_result",
          "data": {
            "text/plain": [
              "time.struct_time(tm_year=2021, tm_mon=6, tm_mday=21, tm_hour=9, tm_min=31, tm_sec=26, tm_wday=0, tm_yday=172, tm_isdst=0)"
            ]
          },
          "metadata": {
            "tags": []
          },
          "execution_count": 309
        }
      ]
    },
    {
      "cell_type": "code",
      "metadata": {
        "colab": {
          "base_uri": "https://localhost:8080/",
          "height": 34
        },
        "id": "KEBEHJdH6HLs",
        "outputId": "5880c3d0-182a-4e87-fdbe-a1eee3634060"
      },
      "source": [
        "time.ctime()"
      ],
      "execution_count": null,
      "outputs": [
        {
          "output_type": "execute_result",
          "data": {
            "application/vnd.google.colaboratory.intrinsic+json": {
              "type": "string"
            },
            "text/plain": [
              "'Mon Jun 21 09:32:08 2021'"
            ]
          },
          "metadata": {
            "tags": []
          },
          "execution_count": 310
        }
      ]
    },
    {
      "cell_type": "code",
      "metadata": {
        "colab": {
          "base_uri": "https://localhost:8080/"
        },
        "id": "TUluvzJn6bCC",
        "outputId": "5ae73d2e-1002-48bd-a10a-a0f75c201f7e"
      },
      "source": [
        "for i in range(10):\n",
        "  print(i)\n",
        "  time.sleep(1)"
      ],
      "execution_count": null,
      "outputs": [
        {
          "output_type": "stream",
          "text": [
            "0\n",
            "1\n",
            "2\n",
            "3\n",
            "4\n",
            "5\n",
            "6\n",
            "7\n",
            "8\n",
            "9\n"
          ],
          "name": "stdout"
        }
      ]
    },
    {
      "cell_type": "code",
      "metadata": {
        "colab": {
          "base_uri": "https://localhost:8080/"
        },
        "id": "69hDQEBG6hs2",
        "outputId": "57fd6015-dd0a-4019-8cbb-48caf306dce3"
      },
      "source": [
        "from time import sleep as sp\n",
        "\n",
        "for i in range(10):\n",
        "  print(i)\n",
        "  sp(1)"
      ],
      "execution_count": null,
      "outputs": [
        {
          "output_type": "stream",
          "text": [
            "0\n",
            "1\n",
            "2\n",
            "3\n",
            "4\n",
            "5\n",
            "6\n",
            "7\n",
            "8\n",
            "9\n"
          ],
          "name": "stdout"
        }
      ]
    },
    {
      "cell_type": "code",
      "metadata": {
        "colab": {
          "base_uri": "https://localhost:8080/"
        },
        "id": "iU1noPAY676k",
        "outputId": "73d0a409-3a35-494c-daae-b59450621f22"
      },
      "source": [
        "import calendar\n",
        "\n",
        "print(calendar.calendar(2022))"
      ],
      "execution_count": null,
      "outputs": [
        {
          "output_type": "stream",
          "text": [
            "                                  2022\n",
            "\n",
            "      January                   February                   March\n",
            "Mo Tu We Th Fr Sa Su      Mo Tu We Th Fr Sa Su      Mo Tu We Th Fr Sa Su\n",
            "                1  2          1  2  3  4  5  6          1  2  3  4  5  6\n",
            " 3  4  5  6  7  8  9       7  8  9 10 11 12 13       7  8  9 10 11 12 13\n",
            "10 11 12 13 14 15 16      14 15 16 17 18 19 20      14 15 16 17 18 19 20\n",
            "17 18 19 20 21 22 23      21 22 23 24 25 26 27      21 22 23 24 25 26 27\n",
            "24 25 26 27 28 29 30      28                        28 29 30 31\n",
            "31\n",
            "\n",
            "       April                      May                       June\n",
            "Mo Tu We Th Fr Sa Su      Mo Tu We Th Fr Sa Su      Mo Tu We Th Fr Sa Su\n",
            "             1  2  3                         1             1  2  3  4  5\n",
            " 4  5  6  7  8  9 10       2  3  4  5  6  7  8       6  7  8  9 10 11 12\n",
            "11 12 13 14 15 16 17       9 10 11 12 13 14 15      13 14 15 16 17 18 19\n",
            "18 19 20 21 22 23 24      16 17 18 19 20 21 22      20 21 22 23 24 25 26\n",
            "25 26 27 28 29 30         23 24 25 26 27 28 29      27 28 29 30\n",
            "                          30 31\n",
            "\n",
            "        July                     August                  September\n",
            "Mo Tu We Th Fr Sa Su      Mo Tu We Th Fr Sa Su      Mo Tu We Th Fr Sa Su\n",
            "             1  2  3       1  2  3  4  5  6  7                1  2  3  4\n",
            " 4  5  6  7  8  9 10       8  9 10 11 12 13 14       5  6  7  8  9 10 11\n",
            "11 12 13 14 15 16 17      15 16 17 18 19 20 21      12 13 14 15 16 17 18\n",
            "18 19 20 21 22 23 24      22 23 24 25 26 27 28      19 20 21 22 23 24 25\n",
            "25 26 27 28 29 30 31      29 30 31                  26 27 28 29 30\n",
            "\n",
            "      October                   November                  December\n",
            "Mo Tu We Th Fr Sa Su      Mo Tu We Th Fr Sa Su      Mo Tu We Th Fr Sa Su\n",
            "                1  2          1  2  3  4  5  6                1  2  3  4\n",
            " 3  4  5  6  7  8  9       7  8  9 10 11 12 13       5  6  7  8  9 10 11\n",
            "10 11 12 13 14 15 16      14 15 16 17 18 19 20      12 13 14 15 16 17 18\n",
            "17 18 19 20 21 22 23      21 22 23 24 25 26 27      19 20 21 22 23 24 25\n",
            "24 25 26 27 28 29 30      28 29 30                  26 27 28 29 30 31\n",
            "31\n",
            "\n"
          ],
          "name": "stdout"
        }
      ]
    },
    {
      "cell_type": "code",
      "metadata": {
        "colab": {
          "base_uri": "https://localhost:8080/"
        },
        "id": "simpjYUv7aGK",
        "outputId": "d26f2f16-598c-4467-9a15-f0d384cbc28e"
      },
      "source": [
        "calendar.prmonth(2015, 12)"
      ],
      "execution_count": null,
      "outputs": [
        {
          "output_type": "stream",
          "text": [
            "   December 2015\n",
            "Mo Tu We Th Fr Sa Su\n",
            "    1  2  3  4  5  6\n",
            " 7  8  9 10 11 12 13\n",
            "14 15 16 17 18 19 20\n",
            "21 22 23 24 25 26 27\n",
            "28 29 30 31\n"
          ],
          "name": "stdout"
        }
      ]
    },
    {
      "cell_type": "code",
      "metadata": {
        "colab": {
          "base_uri": "https://localhost:8080/"
        },
        "id": "brY0BkET7qsZ",
        "outputId": "8d11dbbd-7ba8-449e-fef0-920281a3fb02"
      },
      "source": [
        "calendar.weekday(2015, 12, 31)"
      ],
      "execution_count": null,
      "outputs": [
        {
          "output_type": "execute_result",
          "data": {
            "text/plain": [
              "3"
            ]
          },
          "metadata": {
            "tags": []
          },
          "execution_count": 316
        }
      ]
    },
    {
      "cell_type": "code",
      "metadata": {
        "colab": {
          "base_uri": "https://localhost:8080/"
        },
        "id": "dmmrziuV7uWb",
        "outputId": "348c0dc0-35ca-4885-d843-ad72edb06947"
      },
      "source": [
        "calendar.monthrange(2015, 12)"
      ],
      "execution_count": null,
      "outputs": [
        {
          "output_type": "execute_result",
          "data": {
            "text/plain": [
              "(1, 31)"
            ]
          },
          "metadata": {
            "tags": []
          },
          "execution_count": 317
        }
      ]
    },
    {
      "cell_type": "code",
      "metadata": {
        "colab": {
          "base_uri": "https://localhost:8080/"
        },
        "id": "K9UUr4Xa71TS",
        "outputId": "024a85f8-9025-475a-e36b-d77fab783899"
      },
      "source": [
        "n = input()\n",
        "t = f'{n}+{n}0{n}+{n}00{n}'\n",
        "t = sum(list(map(int, t.split('+'))))\n",
        "t"
      ],
      "execution_count": null,
      "outputs": [
        {
          "output_type": "stream",
          "text": [
            "7\n"
          ],
          "name": "stdout"
        },
        {
          "output_type": "execute_result",
          "data": {
            "text/plain": [
              "7721"
            ]
          },
          "metadata": {
            "tags": []
          },
          "execution_count": 322
        }
      ]
    },
    {
      "cell_type": "code",
      "metadata": {
        "colab": {
          "base_uri": "https://localhost:8080/"
        },
        "id": "wtVvjJN2DWOY",
        "outputId": "5b8bd3a8-75cb-434c-d6a1-003184687c01"
      },
      "source": [
        "t.split('+')"
      ],
      "execution_count": null,
      "outputs": [
        {
          "output_type": "execute_result",
          "data": {
            "text/plain": [
              "['7', '707', '7007']"
            ]
          },
          "metadata": {
            "tags": []
          },
          "execution_count": 320
        }
      ]
    },
    {
      "cell_type": "code",
      "metadata": {
        "id": "sqX8fk4hDe5_"
      },
      "source": [
        ""
      ],
      "execution_count": null,
      "outputs": []
    }
  ]
}